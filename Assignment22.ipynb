{
 "cells": [
  {
   "cell_type": "markdown",
   "metadata": {},
   "source": [
    "Q1. What are the benefits of the built-in array package, if any?\n",
    "\n",
    "\n",
    "In Python, the built-in `array` module provides an array object that is more efficient than a standard list when working with large sequences of homogeneous data. The `array` package offers several benefits:\n",
    "\n",
    "1. **Memory efficiency:** Arrays are more memory-efficient than lists because they store data in a contiguous block of memory. In contrast, lists in Python are implemented as dynamic arrays, which can result in memory fragmentation and higher memory consumption.\n",
    "\n",
    "2. **Performance:** Arrays provide better performance for certain operations compared to lists. Since arrays store homogeneous data types, they can take advantage of low-level optimizations, such as vectorized operations, which can significantly improve execution speed.\n",
    "\n",
    "3. **Type enforcement:** The `array` module allows you to create arrays with elements of a specific type, such as integers, floats, or characters. This type enforcement ensures that the array only contains elements of the specified type, leading to improved reliability and better error handling.\n",
    "\n",
    "4. **Interoperability:** Arrays can be easily converted to and from other data types, such as lists or NumPy arrays, allowing for seamless interoperability with other libraries and tools.\n",
    "\n",
    "5. **Efficient storage and serialization:** Arrays can be efficiently stored and serialized to disk, which can be useful when working with large datasets or when transferring data between different processes or systems.\n",
    "\n",
    "It's worth noting that the `array` module is not as versatile as some other data structures, such as lists or NumPy arrays, as it lacks many of the built-in methods and functionalities. However, for scenarios where memory efficiency and performance are crucial, the `array` package can be a useful tool."
   ]
  },
  {
   "cell_type": "markdown",
   "metadata": {},
   "source": [
    "Q2. What are some of the array package's limitations?\n",
    "\n",
    "\n",
    "While the `array` package in Python provides benefits such as memory efficiency and performance, it also has some limitations compared to other data structures like lists or NumPy arrays. Here are a few limitations of the `array` package:\n",
    "\n",
    "1. **Fixed size:** Once an array is created, its size is fixed and cannot be changed dynamically. Unlike lists, which can grow or shrink as needed, arrays require pre-allocation of memory based on the expected number of elements. If the array needs to be resized, a new array must be created with the desired size, and the elements from the old array need to be copied over.\n",
    "\n",
    "2. **Homogeneous data type:** Arrays can only store elements of the same data type. While this constraint can improve performance, it can be limiting in scenarios where you need to work with heterogeneous data. In contrast, lists can hold elements of different types within the same container.\n",
    "\n",
    "3. **Limited functionality:** The `array` module provides a basic set of functionalities compared to more comprehensive libraries like NumPy. It lacks many advanced features and operations available in NumPy arrays, such as mathematical and statistical functions, broadcasting, slicing, and advanced indexing.\n",
    "\n",
    "4. **Less flexibility:** Arrays have fewer built-in methods and functionalities compared to lists or NumPy arrays. For instance, arrays lack methods like `append()`, `extend()`, or `pop()` that are commonly used with lists. This reduced flexibility can make certain operations more cumbersome to perform.\n",
    "\n",
    "5. **No multi-dimensional arrays:** The `array` package only supports one-dimensional arrays. If you need to work with multi-dimensional data, you would have to use nested arrays or consider using a more feature-rich library like NumPy.\n",
    "\n",
    "6. **Limited data type support:** The `array` module supports a limited set of data types, including numeric types (integers, floats), characters, and booleans. However, it does not offer more complex data types like complex numbers or strings.\n",
    "\n",
    "Considering these limitations, while the `array` package is suitable for specific use cases that prioritize memory efficiency and performance, it may not be the ideal choice for scenarios requiring dynamic resizing, heterogeneous data, or advanced array manipulation capabilities. For those cases, other data structures like lists or libraries like NumPy provide more flexibility and functionality."
   ]
  },
  {
   "cell_type": "markdown",
   "metadata": {},
   "source": [
    "Q3. Describe the main differences between the array and numpy packages.\n",
    "\n",
    "\n",
    "Both the `array` package and the `numpy` package in Python are used for handling arrays of numerical data, but they have some significant differences in terms of functionality and capabilities:\n",
    "\n",
    "1. **Functionality and Features:**\n",
    "   - `array`: The `array` module is a built-in package that provides a basic array object. It offers simple array functionality with a limited set of methods and operations.\n",
    "   - `numpy`: NumPy (Numerical Python) is a powerful third-party library specifically designed for scientific computing and data manipulation. It provides a multidimensional array object called `ndarray` and a wide range of mathematical functions and operations optimized for numerical computations.\n",
    "\n",
    "2. **Data Types:**\n",
    "   - `array`: The `array` package supports a limited set of data types, including integers, floats, characters, and booleans.\n",
    "   - `numpy`: NumPy offers a rich variety of data types, including integer types of various sizes, floating-point types, complex numbers, strings, and more. NumPy also supports user-defined data types.\n",
    "\n",
    "3. **Array Dimensions:**\n",
    "   - `array`: The `array` package only supports one-dimensional arrays.\n",
    "   - `numpy`: NumPy provides multidimensional arrays (ndarrays) that can have any number of dimensions. This enables working with matrices, tensors, and higher-dimensional data structures.\n",
    "\n",
    "4. **Performance and Optimization:**\n",
    "   - `array`: The `array` package provides basic array functionality without extensive performance optimizations.\n",
    "   - `numpy`: NumPy is highly optimized for numerical computations. It leverages efficient memory management, vectorized operations, and optimized algorithms, making it significantly faster for numerical calculations compared to the `array` package.\n",
    "\n",
    "5. **Additional Functionality:**\n",
    "   - `array`: The `array` package offers a small set of basic methods and functions for array manipulation. It lacks more advanced functionalities such as mathematical operations, broadcasting, slicing, and advanced indexing.\n",
    "   - `numpy`: NumPy provides a comprehensive suite of functions and operations for array manipulation and numerical computations. It includes functions for mathematical operations, linear algebra, Fourier transforms, random number generation, and more. NumPy's extensive functionality makes it a popular choice for scientific computing tasks.\n",
    "\n",
    "6. **Ecosystem and Integration:**\n",
    "   - `array`: The `array` package is a built-in module and is part of the Python standard library. It has limited integration with other scientific computing libraries.\n",
    "   - `numpy`: NumPy is a widely used library with a large ecosystem of scientific computing tools and libraries built around it. It integrates seamlessly with other libraries like SciPy, pandas, Matplotlib, and scikit-learn, enabling a complete data analysis and scientific computing workflow.\n",
    "\n",
    "Overall, while the `array` package is suitable for basic array functionality and memory efficiency, NumPy provides a more comprehensive and optimized array handling solution with advanced features, multidimensional arrays, extensive mathematical functions, and a rich ecosystem of scientific computing tools."
   ]
  },
  {
   "cell_type": "markdown",
   "metadata": {},
   "source": [
    "Q4. Explain the distinctions between the empty, ones, and zeros functions.\n",
    "\n",
    "\n",
    "In Python's NumPy library, there are three commonly used functions for creating arrays with specific initial values: `empty`, `ones`, and `zeros`. Here are the distinctions between these functions:\n",
    "\n",
    "1. **`numpy.empty`:**\n",
    "   - The `empty` function creates a new array without initializing its elements to any particular value.\n",
    "   - It allocates the memory required for the array but does not set the initial values. As a result, the values in the array can be arbitrary and may contain uninitialized or garbage values.\n",
    "   - The `empty` function is useful when you plan to fill the array with values later on and don't require specific initial values.\n",
    "   - Syntax: `numpy.empty(shape, dtype=None, order='C')`\n",
    "\n",
    "2. **`numpy.ones`:**\n",
    "   - The `ones` function creates a new array and initializes all its elements to the value 1.\n",
    "   - It takes the desired shape of the array as input and creates an array of that shape with all elements set to 1.\n",
    "   - The `ones` function is commonly used when you need to create an array with all elements initialized to a specific value, such as in mathematical operations or when generating arrays for testing purposes.\n",
    "   - Syntax: `numpy.ones(shape, dtype=None, order='C')`\n",
    "\n",
    "3. **`numpy.zeros`:**\n",
    "   - The `zeros` function creates a new array and initializes all its elements to the value 0.\n",
    "   - It takes the desired shape of the array as input and creates an array of that shape with all elements set to 0.\n",
    "   - The `zeros` function is useful when you need to create an array with all elements initialized to a specific value, similar to the `ones` function.\n",
    "   - Syntax: `numpy.zeros(shape, dtype=None, order='C')`\n",
    "\n",
    "In summary, the `empty` function creates an array without initializing its elements, the `ones` function initializes all elements to 1, and the `zeros` function initializes all elements to 0. Depending on your specific use case, you can choose the appropriate function to create arrays with the desired initial values."
   ]
  },
  {
   "cell_type": "markdown",
   "metadata": {},
   "source": [
    "Q5. In the fromfunction function, which is used to construct new arrays, what is the role of the callable\n",
    "argument?\n",
    "\n",
    "\n",
    "In the NumPy `fromfunction` function, the callable argument refers to a function that is used to compute the values of the array elements based on their indices. It plays a crucial role in determining the values that populate the resulting array.\n",
    "\n",
    "The `fromfunction` function constructs a new array by executing the provided function on each element's indices. The callable function is called with a set of indices corresponding to each element of the array, and it should return the value to be assigned to that element.\n",
    "\n",
    "The general syntax of the `fromfunction` function is as follows:\n",
    "\n",
    "```python\n",
    "numpy.fromfunction(function, shape, dtype=float, **kwargs)\n",
    "```\n",
    "\n",
    "- `function`: The callable function that accepts indices as arguments and computes the value for each element.\n",
    "- `shape`: The shape of the output array.\n",
    "- `dtype` (optional): The data type of the output array. Default is float.\n",
    "- `kwargs` (optional): Additional keyword arguments that can be passed to the callable function.\n",
    "\n",
    "The callable function used with `fromfunction` takes the indices as input and calculates the corresponding element values based on the desired pattern or computation. The indices are passed as separate arguments if the array is one-dimensional, or as separate arrays if the array is multi-dimensional.\n",
    "\n",
    "For example, let's consider creating a 3x3 array where each element is the sum of its row and column indices:\n",
    "\n",
    "```python\n",
    "import numpy as np\n",
    "\n",
    "def sum_indices(i, j):\n",
    "    return i + j\n",
    "\n",
    "result = np.fromfunction(sum_indices, (3, 3))\n",
    "print(result)\n",
    "```\n",
    "\n",
    "Output:\n",
    "```\n",
    "[[0. 1. 2.]\n",
    " [1. 2. 3.]\n",
    " [2. 3. 4.]]\n",
    "```\n",
    "\n",
    "In the above code, the `sum_indices` function takes two arguments `i` and `j`, representing the row and column indices, respectively. The function returns the sum of these indices. The `fromfunction` function then applies this function to each element's indices to construct the resulting array.\n",
    "\n",
    "By using different callable functions, you can generate arrays with varying patterns, calculations, or custom-defined rules based on the indices provided."
   ]
  },
  {
   "cell_type": "markdown",
   "metadata": {},
   "source": [
    "Q6. What happens when a numpy array is combined with a single-value operand (a scalar, such as\n",
    "an int or a floating-point value) through addition, as in the expression A + n?\n",
    "\n",
    "\n",
    "When a NumPy array is combined with a single-value operand (a scalar) through addition, such as in the expression `A + n`, NumPy applies the addition operation element-wise between the array `A` and the scalar `n`. The scalar value `n` is effectively broadcasted to match the shape of the array `A`, allowing the addition to be performed across all corresponding elements of the array.\n",
    "\n",
    "Here are the key points to understand regarding this operation:\n",
    "\n",
    "1. **Broadcasting:** Broadcasting is a mechanism in NumPy that allows arrays with different shapes to be used together in arithmetic operations. In this case, the scalar `n` is broadcasted to match the shape of the array `A`. The broadcasted scalar is essentially replicated along the dimensions of the array to create a compatible shape for the addition.\n",
    "\n",
    "2. **Element-wise addition:** After the broadcasting, the addition operation is performed element-wise between the array `A` and the broadcasted scalar `n`. The addition is applied to each corresponding element of the array, resulting in a new array with the same shape as `A`.\n",
    "\n",
    "3. **Data type:** The data type of the resulting array depends on the data types of the array `A` and the scalar `n`. NumPy performs type coercion to determine the data type of the resulting array. For example, if `A` is an integer array and `n` is a floating-point scalar, the resulting array will have a floating-point data type.\n",
    "\n",
    "Here's an example to illustrate the addition of a scalar to a NumPy array:\n",
    "\n",
    "```python\n",
    "import numpy as np\n",
    "\n",
    "A = np.array([1, 2, 3])\n",
    "n = 5\n",
    "\n",
    "result = A + n\n",
    "print(result)\n",
    "```\n",
    "\n",
    "Output:\n",
    "```\n",
    "[6 7 8]\n",
    "```\n",
    "\n",
    "In this example, the scalar `n` is added to each element of the array `A` using the element-wise addition operation. The resulting array `result` contains the values `[6, 7, 8]`.\n",
    "\n",
    "It's important to note that the original array `A` remains unchanged, and a new array `result` is created with the result of the addition operation."
   ]
  },
  {
   "cell_type": "markdown",
   "metadata": {},
   "source": [
    "Q7. Can array-to-scalar operations use combined operation-assign operators (such as += or *=)?\n",
    "What is the outcome?\n",
    "\n",
    "\n",
    "In NumPy, array-to-scalar operations do support combined operation-assign operators, such as += or *=. However, the outcome of such operations depends on the specific operation and the broadcasting rules applied."
   ]
  },
  {
   "cell_type": "code",
   "execution_count": 11,
   "metadata": {},
   "outputs": [
    {
     "name": "stdout",
     "output_type": "stream",
     "text": [
      "[6 7 8]\n"
     ]
    }
   ],
   "source": [
    "import numpy as np\n",
    "\n",
    "A = np.array([1, 2, 3])\n",
    "n = 5\n",
    "\n",
    "A += n\n",
    "print(A)\n"
   ]
  },
  {
   "cell_type": "code",
   "execution_count": 12,
   "metadata": {},
   "outputs": [
    {
     "name": "stdout",
     "output_type": "stream",
     "text": [
      "[ 5 10 15]\n"
     ]
    }
   ],
   "source": [
    "import numpy as np\n",
    "\n",
    "A = np.array([1, 2, 3])\n",
    "n = 5\n",
    "\n",
    "A *= n\n",
    "print(A)\n"
   ]
  },
  {
   "cell_type": "markdown",
   "metadata": {},
   "source": [
    "Q8. Does a numpy array contain fixed-length strings? What happens if you allocate a longer string to\n",
    "one of these arrays?\n",
    "\n",
    "\n",
    "In NumPy, it is possible to create arrays of fixed-length strings using the numpy.string_ or numpy.unicode_ data types. These data types allow you to specify a fixed maximum length for each string element in the array.\n",
    "If you assign a longer string to an existing fixed-length string array, the assigned string will be truncated to fit within the maximum length defined for the array. No error or warning is raised."
   ]
  },
  {
   "cell_type": "markdown",
   "metadata": {},
   "source": [
    "Q9. What happens when you combine two numpy arrays using an operation like addition (+) or\n",
    "multiplication (*)? What are the conditions for combining two numpy arrays?\n",
    "\n",
    "When you combine two NumPy arrays using an operation like addition (+) or multiplication (*), the operation is applied element-wise between the corresponding elements of the arrays. The resulting array will have the same shape as the input arrays, and the operation is performed on each pair of corresponding elements.\n",
    "\n",
    "The conditions for combining two NumPy arrays are as follows:\n",
    "\n",
    "Arrays must have compatible shapes: To perform element-wise operations, the arrays must have compatible shapes. Compatible shapes mean that the arrays should either have the same shape or be broadcastable to the same shape. Broadcasting is a mechanism in NumPy that allows arrays with different shapes to be used together in operations.\n",
    "\n",
    "Arrays must have compatible data types: The arrays being combined should have compatible data types for the specific operation. NumPy performs type coercion if the arrays have different data types, resulting in a new array with a data type that can accommodate both input arrays."
   ]
  },
  {
   "cell_type": "code",
   "execution_count": 13,
   "metadata": {},
   "outputs": [
    {
     "name": "stdout",
     "output_type": "stream",
     "text": [
      "[5 7 9]\n"
     ]
    }
   ],
   "source": [
    "import numpy as np\n",
    "\n",
    "A = np.array([1, 2, 3])\n",
    "B = np.array([4, 5, 6])\n",
    "\n",
    "result = A + B\n",
    "print(result)\n"
   ]
  },
  {
   "cell_type": "markdown",
   "metadata": {},
   "source": [
    "Q10. What is the best way to use a Boolean array to mask another array?\n"
   ]
  },
  {
   "cell_type": "code",
   "execution_count": 14,
   "metadata": {},
   "outputs": [
    {
     "name": "stdout",
     "output_type": "stream",
     "text": [
      "[1 3 5]\n"
     ]
    }
   ],
   "source": [
    "import numpy as np\n",
    "\n",
    "# Original array\n",
    "arr = np.array([1, 2, 3, 4, 5])\n",
    "\n",
    "# Boolean mask\n",
    "mask = np.array([True, False, True, False, True])\n",
    "\n",
    "# Applying the mask\n",
    "result = arr[mask]\n",
    "\n",
    "print(result)\n"
   ]
  },
  {
   "cell_type": "markdown",
   "metadata": {},
   "source": [
    "Q11. What are three different ways to get the standard deviation of a wide collection of data using\n",
    "both standard Python and its packages? Sort the three of them by how quickly they execute."
   ]
  },
  {
   "cell_type": "code",
   "execution_count": 15,
   "metadata": {},
   "outputs": [
    {
     "name": "stdout",
     "output_type": "stream",
     "text": [
      "1.4142135623730951\n"
     ]
    }
   ],
   "source": [
    "import numpy as np\n",
    "\n",
    "data = np.array([1, 2, 3, 4, 5])\n",
    "std = np.std(data)\n",
    "print(std)\n"
   ]
  },
  {
   "cell_type": "code",
   "execution_count": 16,
   "metadata": {},
   "outputs": [
    {
     "name": "stdout",
     "output_type": "stream",
     "text": [
      "1.5811388300841898\n"
     ]
    }
   ],
   "source": [
    "import statistics\n",
    "\n",
    "data = [1, 2, 3, 4, 5]\n",
    "std = statistics.stdev(data)\n",
    "print(std)\n"
   ]
  },
  {
   "cell_type": "code",
   "execution_count": 17,
   "metadata": {},
   "outputs": [
    {
     "name": "stdout",
     "output_type": "stream",
     "text": [
      "1.4142135623730951\n"
     ]
    }
   ],
   "source": [
    "import math\n",
    "\n",
    "data = [1, 2, 3, 4, 5]\n",
    "\n",
    "mean = sum(data) / len(data)\n",
    "variance = sum((x - mean) ** 2 for x in data) / len(data)\n",
    "std = math.sqrt(variance)\n",
    "\n",
    "print(std)\n"
   ]
  },
  {
   "cell_type": "markdown",
   "metadata": {},
   "source": [
    "12. What is the dimensionality of a Boolean mask-generated array?\n",
    "\n",
    "\n",
    "When applying a Boolean mask to an array, the resulting array will have the same dimensionality as the original array but may have a different shape due to the elements selected by the mask."
   ]
  },
  {
   "cell_type": "code",
   "execution_count": 18,
   "metadata": {},
   "outputs": [
    {
     "name": "stdout",
     "output_type": "stream",
     "text": [
      "[1 3 5]\n",
      "1\n",
      "(3,)\n"
     ]
    }
   ],
   "source": [
    "import numpy as np\n",
    "\n",
    "arr = np.array([1, 2, 3, 4, 5])\n",
    "mask = np.array([True, False, True, False, True])\n",
    "\n",
    "masked_arr = arr[mask]\n",
    "print(masked_arr)\n",
    "print(masked_arr.ndim)\n",
    "print(masked_arr.shape)\n"
   ]
  },
  {
   "cell_type": "code",
   "execution_count": null,
   "metadata": {},
   "outputs": [],
   "source": []
  }
 ],
 "metadata": {
  "kernelspec": {
   "display_name": "Python 3",
   "language": "python",
   "name": "python3"
  },
  "language_info": {
   "codemirror_mode": {
    "name": "ipython",
    "version": 3
   },
   "file_extension": ".py",
   "mimetype": "text/x-python",
   "name": "python",
   "nbconvert_exporter": "python",
   "pygments_lexer": "ipython3",
   "version": "3.8.16"
  },
  "orig_nbformat": 4
 },
 "nbformat": 4,
 "nbformat_minor": 2
}
