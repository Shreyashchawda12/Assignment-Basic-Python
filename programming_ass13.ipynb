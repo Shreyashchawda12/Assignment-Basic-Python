{
 "cells": [
  {
   "cell_type": "code",
   "execution_count": 2,
   "metadata": {},
   "outputs": [
    {
     "name": "stdout",
     "output_type": "stream",
     "text": [
      "Results: [2.58, 3.16, 3.65, 4.08]\n"
     ]
    }
   ],
   "source": [
    "#1\n",
    "import math\n",
    "\n",
    "C = 50\n",
    "H = 30\n",
    "\n",
    "def calculate_values(d_values):\n",
    "    results = []\n",
    "    for d in d_values:\n",
    "        q = math.sqrt((2 * C * int(d)) / H)\n",
    "        results.append(round(q, 2))\n",
    "    return results\n",
    "\n",
    "# Get input of D values\n",
    "d_input = input(\"Enter the values of D (comma-separated): \")\n",
    "d_values = d_input.split(\",\")\n",
    "\n",
    "# Calculate and print the values\n",
    "results = calculate_values(d_values)\n",
    "print(\"Results:\", results)\n"
   ]
  },
  {
   "cell_type": "code",
   "execution_count": 3,
   "metadata": {},
   "outputs": [
    {
     "name": "stdout",
     "output_type": "stream",
     "text": [
      "[0, 0]\n",
      "[0, 1]\n"
     ]
    }
   ],
   "source": [
    "#2\n",
    "def generate_2d_array(x, y):\n",
    "    array_2d = [[i * j for j in range(y)] for i in range(x)]\n",
    "    return array_2d\n",
    "\n",
    "# Get input of X and Y\n",
    "x = int(input(\"Enter the value of X: \"))\n",
    "y = int(input(\"Enter the value of Y: \"))\n",
    "\n",
    "# Generate and print the 2D array\n",
    "array = generate_2d_array(x, y)\n",
    "for row in array:\n",
    "    print(row)\n"
   ]
  },
  {
   "cell_type": "code",
   "execution_count": 4,
   "metadata": {},
   "outputs": [
    {
     "name": "stdout",
     "output_type": "stream",
     "text": [
      "Sorted sequence: a, e, h, r, s, y\n"
     ]
    }
   ],
   "source": [
    "#3\n",
    "def sort_words_sequence(words_sequence):\n",
    "    words_list = words_sequence.split(\",\")  # Split the input sequence into a list of words\n",
    "    sorted_words = sorted(words_list)  # Sort the words alphabetically\n",
    "    sorted_sequence = \", \".join(sorted_words)  # Join the sorted words with commas\n",
    "    return sorted_sequence\n",
    "\n",
    "# Get input of comma-separated words sequence\n",
    "words_input = input(\"Enter a comma-separated sequence of words: \")\n",
    "\n",
    "# Sort the words and print the sorted sequence\n",
    "sorted_sequence = sort_words_sequence(words_input)\n",
    "print(\"Sorted sequence:\", sorted_sequence)\n"
   ]
  },
  {
   "cell_type": "code",
   "execution_count": 5,
   "metadata": {},
   "outputs": [
    {
     "name": "stdout",
     "output_type": "stream",
     "text": [
      "Result: e h r s\n"
     ]
    }
   ],
   "source": [
    "#4\n",
    "def remove_duplicates_and_sort(sequence):\n",
    "    words_list = sequence.split()  # Split the input sequence into a list of words\n",
    "    unique_words = sorted(set(words_list))  # Convert the list to a set to remove duplicates, then sort the unique words\n",
    "    return unique_words\n",
    "\n",
    "# Get input of whitespace-separated words sequence\n",
    "sequence_input = input(\"Enter a whitespace-separated sequence of words: \")\n",
    "\n",
    "# Remove duplicates and sort the words, then print the result\n",
    "result = remove_duplicates_and_sort(sequence_input)\n",
    "print(\"Result:\", \" \".join(result))\n"
   ]
  },
  {
   "cell_type": "code",
   "execution_count": 6,
   "metadata": {},
   "outputs": [
    {
     "name": "stdout",
     "output_type": "stream",
     "text": [
      "Number of letters: 5\n",
      "Number of digits: 3\n"
     ]
    }
   ],
   "source": [
    "#5\n",
    "def count_letters_and_digits(sentence):\n",
    "    letter_count = 0\n",
    "    digit_count = 0\n",
    "\n",
    "    for char in sentence:\n",
    "        if char.isalpha():  # Check if the character is a letter\n",
    "            letter_count += 1\n",
    "        elif char.isdigit():  # Check if the character is a digit\n",
    "            digit_count += 1\n",
    "\n",
    "    return letter_count, digit_count\n",
    "\n",
    "# Get input of a sentence\n",
    "sentence_input = input(\"Enter a sentence: \")\n",
    "\n",
    "# Count the letters and digits in the sentence\n",
    "letter_count, digit_count = count_letters_and_digits(sentence_input)\n",
    "\n",
    "# Print the result\n",
    "print(\"Number of letters:\", letter_count)\n",
    "print(\"Number of digits:\", digit_count)\n"
   ]
  },
  {
   "cell_type": "code",
   "execution_count": null,
   "metadata": {},
   "outputs": [],
   "source": [
    "#6\n",
    "def check_password_validity(password):\n",
    "    # Check password length\n",
    "    if len(password) < 8:\n",
    "        return False\n",
    "\n",
    "    # Check for uppercase, lowercase, and digit\n",
    "    has_uppercase = False\n",
    "    has_lowercase = False\n",
    "    has_digit = False\n",
    "\n",
    "    for char in password:\n",
    "        if char.isupper():\n",
    "            has_uppercase = True\n",
    "        elif char.islower():\n",
    "            has_lowercase = True\n",
    "        elif char.isdigit():\n",
    "            has_digit = True\n",
    "\n",
    "    return has_uppercase and has_lowercase and has_digit\n",
    "\n",
    "# Get input of password from the user\n",
    "password_input = input(\"Enter a password: \")\n",
    "\n",
    "# Check the validity of the password\n",
    "validity = check_password_validity(password_input)\n",
    "\n",
    "# Print the result\n",
    "if validity:\n",
    "    print(\"Password is valid.\")\n",
    "else:\n",
    "    print(\"Password is not valid.\")\n"
   ]
  }
 ],
 "metadata": {
  "kernelspec": {
   "display_name": "Python 3",
   "language": "python",
   "name": "python3"
  },
  "language_info": {
   "codemirror_mode": {
    "name": "ipython",
    "version": 3
   },
   "file_extension": ".py",
   "mimetype": "text/x-python",
   "name": "python",
   "nbconvert_exporter": "python",
   "pygments_lexer": "ipython3",
   "version": "3.8.16"
  },
  "orig_nbformat": 4
 },
 "nbformat": 4,
 "nbformat_minor": 2
}
