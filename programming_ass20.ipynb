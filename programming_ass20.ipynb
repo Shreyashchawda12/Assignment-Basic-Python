{
 "cells": [
  {
   "cell_type": "code",
   "execution_count": 1,
   "metadata": {},
   "outputs": [
    {
     "name": "stdout",
     "output_type": "stream",
     "text": [
      "[1, 2, 3, 4, 5]\n"
     ]
    }
   ],
   "source": [
    "#1\n",
    "def filter_integers(lst):\n",
    "    return [x for x in lst if isinstance(x, int)]\n",
    "\n",
    "input_list = [1, 'apple', 2, 'banana', 3, 'carrot', 4, 'dog', 5]\n",
    "filtered_list = filter_integers(input_list)\n",
    "print(filtered_list)  # The filtered list will contain only the integers: [1, 2, 3, 4, 5]\n"
   ]
  },
  {
   "cell_type": "code",
   "execution_count": 2,
   "metadata": {},
   "outputs": [
    {
     "name": "stdout",
     "output_type": "stream",
     "text": [
      "[1, 3, 5, 7, 9]\n"
     ]
    }
   ],
   "source": [
    "#2\n",
    "def add_index_to_element(lst):\n",
    "    return [num + index for index, num in enumerate(lst)]\n",
    "\n",
    "numbers = [1, 2, 3, 4, 5]\n",
    "result = add_index_to_element(numbers)\n",
    "print(result)  # The list with each element's index added: [1, 3, 5, 7, 9]\n"
   ]
  },
  {
   "cell_type": "code",
   "execution_count": 3,
   "metadata": {},
   "outputs": [],
   "source": [
    "#3\n",
    "import math\n",
    "\n",
    "def cone_volume(height, radius):\n",
    "    volume = (1/3) * math.pi * radius**2 * height\n",
    "    return round(volume, 2)\n"
   ]
  },
  {
   "cell_type": "code",
   "execution_count": 5,
   "metadata": {},
   "outputs": [
    {
     "name": "stdout",
     "output_type": "stream",
     "text": [
      "1\n",
      "21\n",
      "23220\n"
     ]
    }
   ],
   "source": [
    "#4\n",
    "def triangular_sequence(n):\n",
    "    dots = (n * (n + 1)) // 2\n",
    "    return dots\n",
    "print(triangular_sequence(1))  # The first triangle has 1 dot\n",
    "print(triangular_sequence(6))  # The second triangle has 3 dots\n",
    "print(triangular_sequence(215))  # The third triangle has 6 dots\n"
   ]
  },
  {
   "cell_type": "code",
   "execution_count": 6,
   "metadata": {},
   "outputs": [
    {
     "name": "stdout",
     "output_type": "stream",
     "text": [
      "5\n"
     ]
    }
   ],
   "source": [
    "#5\n",
    "def find_missing_number(numbers):\n",
    "    expected_sum = (10 * (10 + 1)) // 2\n",
    "    actual_sum = sum(numbers)\n",
    "    missing_number = expected_sum - actual_sum\n",
    "    return missing_number\n",
    "\n",
    "numbers = [1, 2, 3, 4, 6, 7, 8, 9, 10]\n",
    "missing_number = find_missing_number(numbers)\n",
    "print(missing_number)  # The missing number is 5\n"
   ]
  },
  {
   "cell_type": "code",
   "execution_count": null,
   "metadata": {},
   "outputs": [],
   "source": []
  }
 ],
 "metadata": {
  "kernelspec": {
   "display_name": "Python 3",
   "language": "python",
   "name": "python3"
  },
  "language_info": {
   "codemirror_mode": {
    "name": "ipython",
    "version": 3
   },
   "file_extension": ".py",
   "mimetype": "text/x-python",
   "name": "python",
   "nbconvert_exporter": "python",
   "pygments_lexer": "ipython3",
   "version": "3.8.16"
  },
  "orig_nbformat": 4
 },
 "nbformat": 4,
 "nbformat_minor": 2
}
