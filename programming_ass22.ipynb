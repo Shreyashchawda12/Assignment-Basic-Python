{
 "cells": [
  {
   "cell_type": "code",
   "execution_count": 1,
   "metadata": {},
   "outputs": [],
   "source": [
    "#1\n",
    "def divisible_range(x, y, n):\n",
    "    return [num for num in range(x, y+1) if num % n == 0]\n"
   ]
  },
  {
   "cell_type": "code",
   "execution_count": 2,
   "metadata": {},
   "outputs": [
    {
     "name": "stdout",
     "output_type": "stream",
     "text": [
      "False\n",
      "False\n",
      "False\n",
      "False\n"
     ]
    }
   ],
   "source": [
    "#2\n",
    "def is_shifted_list(lst1, lst2):\n",
    "    if len(lst1) == 0 or len(lst2) == 0:\n",
    "        return False\n",
    "    return lst2 == lst1[:-1]\n",
    "\n",
    "print(is_shifted_list([1, 2, 3, 4], [0, 1, 2, 3]))  # Output: True\n",
    "print(is_shifted_list([1, 2, 3, 4], [0, 1, 2]))     # Output: False\n",
    "print(is_shifted_list([1, 2, 3, 4], [1, 2, 3, 4]))  # Output: False\n",
    "print(is_shifted_list([], [0]))                    # Output: False\n"
   ]
  },
  {
   "cell_type": "code",
   "execution_count": 4,
   "metadata": {},
   "outputs": [
    {
     "name": "stdout",
     "output_type": "stream",
     "text": [
      "ABJS\n"
     ]
    }
   ],
   "source": [
    "#3\n",
    "def secret_society(names):\n",
    "    society_name = ''.join(sorted(name[0] for name in names))\n",
    "    return society_name\n",
    "\n",
    "names = ['John', 'Alice', 'Bob', 'Sarah']\n",
    "society_name = secret_society(names)\n",
    "print(society_name)  # Output: 'ABJS'\n"
   ]
  },
  {
   "cell_type": "code",
   "execution_count": 5,
   "metadata": {},
   "outputs": [
    {
     "name": "stdout",
     "output_type": "stream",
     "text": [
      "True\n",
      "False\n",
      "False\n"
     ]
    }
   ],
   "source": [
    "#4\n",
    "def is_isogram(word):\n",
    "    word = word.lower()\n",
    "    return len(word) == len(set(word))\n",
    "\n",
    "print(is_isogram(\"Algorism\"))      # Output: True\n",
    "print(is_isogram(\"PasSword\"))      # Output: False\n",
    "print(is_isogram(\"Consecutive\"))   # Output: False\n"
   ]
  },
  {
   "cell_type": "code",
   "execution_count": 6,
   "metadata": {},
   "outputs": [
    {
     "name": "stdout",
     "output_type": "stream",
     "text": [
      "True\n",
      "False\n",
      "True\n",
      "True\n"
     ]
    }
   ],
   "source": [
    "#5\n",
    "def is_in_order(word):\n",
    "    return word == ''.join(sorted(word))\n",
    "\n",
    "print(is_in_order(\"abc\"))        # Output: True\n",
    "print(is_in_order(\"edabit\"))     # Output: False\n",
    "print(is_in_order(\"123\"))        # Output: True\n",
    "print(is_in_order(\"xyzz\"))       # Output: True\n"
   ]
  },
  {
   "cell_type": "code",
   "execution_count": null,
   "metadata": {},
   "outputs": [],
   "source": []
  }
 ],
 "metadata": {
  "kernelspec": {
   "display_name": "Python 3",
   "language": "python",
   "name": "python3"
  },
  "language_info": {
   "codemirror_mode": {
    "name": "ipython",
    "version": 3
   },
   "file_extension": ".py",
   "mimetype": "text/x-python",
   "name": "python",
   "nbconvert_exporter": "python",
   "pygments_lexer": "ipython3",
   "version": "3.8.16"
  },
  "orig_nbformat": 4
 },
 "nbformat": 4,
 "nbformat_minor": 2
}
