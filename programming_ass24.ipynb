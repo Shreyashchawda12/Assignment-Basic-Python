{
 "cells": [
  {
   "cell_type": "code",
   "execution_count": 2,
   "metadata": {},
   "outputs": [
    {
     "name": "stdout",
     "output_type": "stream",
     "text": [
      "[1, 2, 3, 40]\n",
      "[1, 2, 3]\n",
      "[1, 2, 3, 40, 5, 6, 7, 80, 9, 10, 11, 120, 13, 14, 15, 160, 17, 18, 19, 200, 21, 22, 23, 240, 25]\n"
     ]
    }
   ],
   "source": [
    "#1\n",
    "def amplify(num):\n",
    "    return [n * 10 if n % 4 == 0 else n for n in range(1, num + 1)]\n",
    "\n",
    "print(amplify(4))      # Output: [1, 2, 3, 40]\n",
    "print(amplify(3))      # Output: [1, 2, 3]\n",
    "print(amplify(25))     # Output: [1, 2, 3, 40, 5, 6, 7, 80, 9, 10, 11, 120, 13, 14, 15, 160, 17, 18, 19, 200, 21, 22, 23, 240, 25]\n",
    "\n"
   ]
  },
  {
   "cell_type": "code",
   "execution_count": 3,
   "metadata": {},
   "outputs": [
    {
     "name": "stdout",
     "output_type": "stream",
     "text": [
      "7\n",
      "0.77\n",
      "0\n"
     ]
    }
   ],
   "source": [
    "#2\n",
    "def unique(numbers):\n",
    "    for num in numbers:\n",
    "        if numbers.count(num) == 1:\n",
    "            return num\n",
    "\n",
    "print(unique([3, 3, 3, 7, 3, 3]))             # Output: 7\n",
    "print(unique([0, 0, 0.77, 0, 0]))             # Output: 0.77\n",
    "print(unique([0, 1, 1, 1, 1, 1, 1, 1]))       # Output: 0\n"
   ]
  },
  {
   "cell_type": "code",
   "execution_count": 4,
   "metadata": {},
   "outputs": [
    {
     "name": "stdout",
     "output_type": "stream",
     "text": [
      "380.132711084365\n",
      "27.897342763877365\n"
     ]
    }
   ],
   "source": [
    "#3\n",
    "import math\n",
    "\n",
    "class Circle:\n",
    "    def __init__(self, radius):\n",
    "        self.radius = radius\n",
    "    \n",
    "    def getArea(self):\n",
    "        return math.pi * self.radius**2\n",
    "    \n",
    "    def getPerimeter(self):\n",
    "        return 2 * math.pi * self.radius\n",
    "\n",
    "circy = Circle(11)\n",
    "print(circy.getArea())        # Output: 380.132711084365\n",
    "\n",
    "circy = Circle(4.44)\n",
    "print(circy.getPerimeter())   # Output: 27.897342763877365\n"
   ]
  },
  {
   "cell_type": "code",
   "execution_count": 5,
   "metadata": {},
   "outputs": [
    {
     "name": "stdout",
     "output_type": "stream",
     "text": [
      "['Apple', 'Google', 'Microsoft']\n",
      "['Raphael', 'Leonardo', 'Donatello', 'Michelangelo']\n",
      "['Jung', 'Turing', 'Einstein']\n"
     ]
    }
   ],
   "source": [
    "#4\n",
    "def sort_by_length(strings):\n",
    "    return sorted(strings, key=len)\n",
    "print(sort_by_length([\"Google\", \"Apple\", \"Microsoft\"]))              # Output: [\"Apple\", \"Google\", \"Microsoft\"]\n",
    "print(sort_by_length([\"Leonardo\", \"Michelangelo\", \"Raphael\", \"Donatello\"]))  # Output: [\"Raphael\", \"Leonardo\", \"Donatello\", \"Michelangelo\"]\n",
    "print(sort_by_length([\"Turing\", \"Einstein\", \"Jung\"]))                # Output: [\"Jung\", \"Turing\", \"Einstein\"]\n"
   ]
  },
  {
   "cell_type": "code",
   "execution_count": 6,
   "metadata": {},
   "outputs": [
    {
     "name": "stdout",
     "output_type": "stream",
     "text": [
      "True\n",
      "True\n",
      "False\n"
     ]
    }
   ],
   "source": [
    "#5\n",
    "def is_triplet(a, b, c):\n",
    "    sorted_nums = sorted([a, b, c])\n",
    "    return sorted_nums[0]**2 + sorted_nums[1]**2 == sorted_nums[2]**2\n",
    "\n",
    "print(is_triplet(3, 4, 5))          # Output: True\n",
    "print(is_triplet(13, 5, 12))        # Output: True\n",
    "print(is_triplet(1, 2, 3))          # Output: False\n"
   ]
  },
  {
   "cell_type": "code",
   "execution_count": null,
   "metadata": {},
   "outputs": [],
   "source": []
  }
 ],
 "metadata": {
  "kernelspec": {
   "display_name": "Python 3",
   "language": "python",
   "name": "python3"
  },
  "language_info": {
   "codemirror_mode": {
    "name": "ipython",
    "version": 3
   },
   "file_extension": ".py",
   "mimetype": "text/x-python",
   "name": "python",
   "nbconvert_exporter": "python",
   "pygments_lexer": "ipython3",
   "version": "3.8.16"
  },
  "orig_nbformat": 4
 },
 "nbformat": 4,
 "nbformat_minor": 2
}
