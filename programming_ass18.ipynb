{
 "cells": [
  {
   "cell_type": "code",
   "execution_count": 1,
   "metadata": {},
   "outputs": [
    {
     "name": "stdout",
     "output_type": "stream",
     "text": [
      "[1, 2, 3, 4, 5]\n"
     ]
    }
   ],
   "source": [
    "#1\n",
    "def filter_non_negative_integers(lst):\n",
    "    return [num for num in lst if isinstance(num, int) and num >= 0]\n",
    "\n",
    "input_list = [1, \"apple\", 2, \"banana\", 3, \"carrot\", 4, \"dog\", 5]\n",
    "filtered_list = filter_non_negative_integers(input_list)\n",
    "print(filtered_list)  # The filtered list will contain only the non-negative integers: [1, 2, 3, 4, 5]\n"
   ]
  },
  {
   "cell_type": "code",
   "execution_count": 2,
   "metadata": {},
   "outputs": [
    {
     "name": "stdout",
     "output_type": "stream",
     "text": [
      "!DLROw ,OLLEh\n"
     ]
    }
   ],
   "source": [
    "#2\n",
    "def reverser(string):\n",
    "    reversed_string = string[::-1]  # Reverse the string\n",
    "    return reversed_string.swapcase()  # Swap the case of each character\n",
    "\n",
    "input_string = \"Hello, World!\"\n",
    "reversed_string = reverser(input_string)\n",
    "print(reversed_string)  # The reversed string with opposite case: \"!DLROw ,OLLEh\"\n"
   ]
  },
  {
   "cell_type": "code",
   "execution_count": 3,
   "metadata": {},
   "outputs": [
    {
     "name": "stdout",
     "output_type": "stream",
     "text": [
      "First: 1\n",
      "Middle: [2, 3, 4, 5]\n",
      "Last: 6\n"
     ]
    }
   ],
   "source": [
    "#3\n",
    "writeyourcodehere = [1, 2, 3, 4, 5, 6]\n",
    "\n",
    "first, *middle, last = writeyourcodehere\n",
    "\n",
    "print(\"First:\", first)\n",
    "print(\"Middle:\", middle)\n",
    "print(\"Last:\", last)\n"
   ]
  },
  {
   "cell_type": "code",
   "execution_count": 9,
   "metadata": {},
   "outputs": [],
   "source": [
    "#4\n",
    "def factorial_recursive(n):\n",
    "    if n == 0 or n == 1:\n",
    "        return 1\n",
    "    else:\n",
    "        return n * factorial_recursive(n - 1)\n"
   ]
  },
  {
   "cell_type": "code",
   "execution_count": 10,
   "metadata": {},
   "outputs": [],
   "source": [
    "#5\n",
    "def move_elements_to_end(lst, element_type):\n",
    "    return [element for element in lst if type(element) != element_type] + \\\n",
    "           [element for element in lst if type(element) == element_type]\n"
   ]
  },
  {
   "cell_type": "code",
   "execution_count": null,
   "metadata": {},
   "outputs": [],
   "source": []
  }
 ],
 "metadata": {
  "kernelspec": {
   "display_name": "Python 3",
   "language": "python",
   "name": "python3"
  },
  "language_info": {
   "codemirror_mode": {
    "name": "ipython",
    "version": 3
   },
   "file_extension": ".py",
   "mimetype": "text/x-python",
   "name": "python",
   "nbconvert_exporter": "python",
   "pygments_lexer": "ipython3",
   "version": "3.8.16"
  },
  "orig_nbformat": 4
 },
 "nbformat": 4,
 "nbformat_minor": 2
}
