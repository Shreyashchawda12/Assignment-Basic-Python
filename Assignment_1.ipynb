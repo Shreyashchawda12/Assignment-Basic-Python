{
 "cells": [
  {
   "cell_type": "raw",
   "id": "f7273f0e",
   "metadata": {},
   "source": [
    "1. In the below elements which of them are values or an expression? eg:- values can be\n",
    "integer or string and expressions will be mathematical operators.\n",
    "Answer:\n",
    "  (*)=> expressions\n",
    "  'hello' => values\n",
    "  -87.8 => values\n",
    "  - => expression\n",
    "  / => expression\n",
    "  + => expression\n",
    "  6 => values"
   ]
  },
  {
   "cell_type": "raw",
   "id": "e914b704",
   "metadata": {},
   "source": [
    "2. What is the difference between string and variable?\n",
    "Answer:\n",
    "   string is a character or bunch of character also in python whatever values we declare in paranthesis(\" \") is consider as string.\n",
    "   variables is used to store values like int char bool float etc.for eg\n",
    "   a = 12\n",
    "   b = \"abc\"\n",
    "   c = 12.5\n",
    "   a,b,c are variable."
   ]
  },
  {
   "cell_type": "raw",
   "id": "81581d89",
   "metadata": {},
   "source": [
    "3. Describe three different data types.\n",
    "Answer:\n",
    "   int datatype is used for numbers\n",
    "   float datatype is used for decimal numbers\n",
    "   bool datatype is used for boolean (0/1)"
   ]
  },
  {
   "cell_type": "raw",
   "id": "77927bcd",
   "metadata": {},
   "source": [
    "4. What is an expression made up of? What do all expressions do?\n",
    "Answer:\n",
    "    expression is collection of values variables operator etc is used to do specific task.For example\n",
    "    a = 12\n",
    "    b = 14\n",
    "    c = a + b\n",
    "    where c is variable a,b are values and + is operator and task is to add a+b and store value in c"
   ]
  },
  {
   "cell_type": "raw",
   "id": "2e09d869",
   "metadata": {},
   "source": [
    "5. This assignment statements, like spam = 10. What is the difference between an\n",
    "expression and a statement?\n",
    "Answer:\n",
    "    statement does not do specific task with the help of operator it is declaration while expression do specific task with the help of values and operator."
   ]
  },
  {
   "cell_type": "raw",
   "id": "cf497f35",
   "metadata": {},
   "source": [
    "6. After running the following code, what does the variable bacon contain?\n",
    "bacon = 22\n",
    "bacon + 1\n",
    "Answer:\n",
    "    bacon = 23"
   ]
  },
  {
   "cell_type": "code",
   "execution_count": 4,
   "id": "c7b85a40",
   "metadata": {},
   "outputs": [
    {
     "data": {
      "text/plain": [
       "'spamspamspam'"
      ]
     },
     "execution_count": 4,
     "metadata": {},
     "output_type": "execute_result"
    }
   ],
   "source": [
    "#7. What should the values of the following two terms be?\n",
    "'spam' + 'spamspam'"
   ]
  },
  {
   "cell_type": "code",
   "execution_count": 6,
   "id": "a23fd6b5",
   "metadata": {},
   "outputs": [
    {
     "data": {
      "text/plain": [
       "'spamspamspam'"
      ]
     },
     "execution_count": 6,
     "metadata": {},
     "output_type": "execute_result"
    }
   ],
   "source": [
    "'spam'*3"
   ]
  },
  {
   "cell_type": "raw",
   "id": "7c4eb925",
   "metadata": {},
   "source": [
    "8. Why is eggs a valid variable name while 100 is invalid?\n",
    "Answer:\n",
    "    100 is integer we cannot assign numeric values as variable"
   ]
  },
  {
   "cell_type": "raw",
   "id": "961b6b34",
   "metadata": {},
   "source": [
    "9. What three functions can be used to get the integer, floating-point number, or string\n",
    "version of a value?\n",
    "Answer:\n",
    "    int() for integer\n",
    "    float() for floating-point number\n",
    "    str() for string"
   ]
  },
  {
   "cell_type": "raw",
   "id": "6f340236",
   "metadata": {},
   "source": [
    "10. Why does this expression cause an error? How can you fix it?\n",
    "'I have eaten' + 99 + 'burritos'\n",
    "Answer:\n",
    "    Error as cant concat str int str"
   ]
  },
  {
   "cell_type": "code",
   "execution_count": null,
   "id": "27ae18ab",
   "metadata": {},
   "outputs": [],
   "source": []
  }
 ],
 "metadata": {
  "kernelspec": {
   "display_name": "Python 3 (ipykernel)",
   "language": "python",
   "name": "python3"
  },
  "language_info": {
   "codemirror_mode": {
    "name": "ipython",
    "version": 3
   },
   "file_extension": ".py",
   "mimetype": "text/x-python",
   "name": "python",
   "nbconvert_exporter": "python",
   "pygments_lexer": "ipython3",
   "version": "3.9.13"
  }
 },
 "nbformat": 4,
 "nbformat_minor": 5
}
