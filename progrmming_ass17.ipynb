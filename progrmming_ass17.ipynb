{
 "cells": [
  {
   "cell_type": "code",
   "execution_count": 1,
   "metadata": {},
   "outputs": [
    {
     "name": "stdout",
     "output_type": "stream",
     "text": [
      "18\n"
     ]
    }
   ],
   "source": [
    "#1\n",
    "def sum_divisible_by_c(a, b, c):\n",
    "    total_sum = 0\n",
    "    for num in range(a, b+1):\n",
    "        if num % c == 0:\n",
    "            total_sum += num\n",
    "    return total_sum\n",
    "\n",
    "print(sum_divisible_by_c(1, 10, 3))  # The numbers evenly divided by 3 in the range 1 to 10 are 3, 6, 9. Their sum is 18.\n"
   ]
  },
  {
   "cell_type": "code",
   "execution_count": 2,
   "metadata": {},
   "outputs": [
    {
     "name": "stdout",
     "output_type": "stream",
     "text": [
      "True\n",
      "False\n",
      "False\n"
     ]
    }
   ],
   "source": [
    "#2\n",
    "def evaluate_inequality(expression):\n",
    "    try:\n",
    "        result = eval(expression)\n",
    "        return bool(result)\n",
    "    except (SyntaxError, NameError):\n",
    "        return False\n",
    "\n",
    "print(evaluate_inequality(\"2 + 2 == 4\"))  # True, since 2 + 2 is equal to 4\n",
    "print(evaluate_inequality(\"5 > 10\"))  # False, since 5 is not greater than 10\n",
    "print(evaluate_inequality(\"x > 5\"))  # False, since the variable x is not defined\n"
   ]
  },
  {
   "cell_type": "code",
   "execution_count": 3,
   "metadata": {},
   "outputs": [],
   "source": [
    "#3\n",
    "def replace_vowels_with_char(string, char):\n",
    "    vowels = 'aeiouAEIOU'\n",
    "    replaced_string = ''\n",
    "    for c in string:\n",
    "        if c in vowels:\n",
    "            replaced_string += char\n",
    "        else:\n",
    "            replaced_string += c\n",
    "    return replaced_string\n"
   ]
  },
  {
   "cell_type": "code",
   "execution_count": 4,
   "metadata": {},
   "outputs": [],
   "source": [
    "#4\n",
    "def factorial_recursive(n):\n",
    "    if n == 0 or n == 1:\n",
    "        return 1\n",
    "    else:\n",
    "        return n * factorial_recursive(n - 1)\n"
   ]
  },
  {
   "cell_type": "code",
   "execution_count": null,
   "metadata": {},
   "outputs": [],
   "source": [
    "#5\n",
    "def hamming_distance(str1, str2):\n",
    "    if len(str1) != len(str2):\n",
    "        raise ValueError(\"Strings must have the same length\")\n",
    "\n",
    "    distance = 0\n",
    "    for char1, char2 in zip(str1, str2):\n",
    "        if char1 != char2:\n",
    "            distance += 1\n",
    "\n",
    "    return distance\n"
   ]
  }
 ],
 "metadata": {
  "kernelspec": {
   "display_name": "Python 3",
   "language": "python",
   "name": "python3"
  },
  "language_info": {
   "codemirror_mode": {
    "name": "ipython",
    "version": 3
   },
   "file_extension": ".py",
   "mimetype": "text/x-python",
   "name": "python",
   "nbconvert_exporter": "python",
   "pygments_lexer": "ipython3",
   "version": "3.8.16"
  },
  "orig_nbformat": 4
 },
 "nbformat": 4,
 "nbformat_minor": 2
}
