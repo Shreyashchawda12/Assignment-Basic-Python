{
 "cells": [
  {
   "cell_type": "code",
   "execution_count": 1,
   "metadata": {},
   "outputs": [
    {
     "name": "stdout",
     "output_type": "stream",
     "text": [
      "st... st... struggling?\n"
     ]
    }
   ],
   "source": [
    "#1\n",
    "def stutter_word(word):\n",
    "    stuttered_word = word[:2] + \"... \"\n",
    "    stuttered_word += word[:2] + \"... \"\n",
    "    stuttered_word += word + \"?\"\n",
    "\n",
    "    return stuttered_word\n",
    "\n",
    "# Test the stutter_word function\n",
    "word = \"struggling\"\n",
    "stuttered = stutter_word(word)\n",
    "print(stuttered)\n"
   ]
  },
  {
   "cell_type": "code",
   "execution_count": 2,
   "metadata": {},
   "outputs": [
    {
     "name": "stdout",
     "output_type": "stream",
     "text": [
      "90.0\n"
     ]
    }
   ],
   "source": [
    "#2\n",
    "import math\n",
    "\n",
    "def radians_to_degrees(angle_radians):\n",
    "    angle_degrees = math.degrees(angle_radians)\n",
    "    rounded_angle = round(angle_degrees, 1)\n",
    "    return rounded_angle\n",
    "\n",
    "# Test the radians_to_degrees function\n",
    "angle_radians = 1.57\n",
    "angle_degrees = radians_to_degrees(angle_radians)\n",
    "print(angle_degrees)\n"
   ]
  },
  {
   "cell_type": "code",
   "execution_count": 3,
   "metadata": {},
   "outputs": [
    {
     "name": "stdout",
     "output_type": "stream",
     "text": [
      "True\n",
      "False\n",
      "True\n"
     ]
    }
   ],
   "source": [
    "#3\n",
    "def is_curzon_number(num):\n",
    "    numerator = 2 ** num + 1\n",
    "    denominator = 2 * num + 1\n",
    "\n",
    "    return numerator % denominator == 0\n",
    "\n",
    "print(is_curzon_number(5))  # True, since (2^5 + 1) = 33 is divisible by (2*5 + 1) = 11\n",
    "print(is_curzon_number(10))  # False, since (2^10 + 1) = 1025 is not divisible by (2*10 + 1) = 21\n",
    "print(is_curzon_number(2))  # True, since (2^2 + 1) = 5 is divisible by (2*2 + 1) = 5\n"
   ]
  },
  {
   "cell_type": "code",
   "execution_count": 4,
   "metadata": {},
   "outputs": [
    {
     "name": "stdout",
     "output_type": "stream",
     "text": [
      "64.9519052838329\n"
     ]
    }
   ],
   "source": [
    "#4\n",
    "import math\n",
    "\n",
    "def calculate_hexagon_area(x):\n",
    "    area = (3 * math.sqrt(3) * x**2) / 2\n",
    "    return area\n",
    "\n",
    "print(calculate_hexagon_area(5))  # The side length is 5, so the area is (3 * sqrt(3) * 5^2) / 2 = 64.951905283832896\n"
   ]
  },
  {
   "cell_type": "code",
   "execution_count": 5,
   "metadata": {},
   "outputs": [],
   "source": [
    "#5\n",
    "def decimal_to_binary(decimal):\n",
    "    if decimal == 0:\n",
    "        return '0'\n",
    "\n",
    "    binary = ''\n",
    "    while decimal > 0:\n",
    "        remainder = decimal % 2\n",
    "        binary = str(remainder) + binary\n",
    "        decimal //= 2\n",
    "\n",
    "    return binary\n"
   ]
  },
  {
   "cell_type": "code",
   "execution_count": null,
   "metadata": {},
   "outputs": [],
   "source": []
  }
 ],
 "metadata": {
  "kernelspec": {
   "display_name": "Python 3",
   "language": "python",
   "name": "python3"
  },
  "language_info": {
   "codemirror_mode": {
    "name": "ipython",
    "version": 3
   },
   "file_extension": ".py",
   "mimetype": "text/x-python",
   "name": "python",
   "nbconvert_exporter": "python",
   "pygments_lexer": "ipython3",
   "version": "3.8.16"
  },
  "orig_nbformat": 4
 },
 "nbformat": 4,
 "nbformat_minor": 2
}
