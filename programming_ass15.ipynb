{
 "cells": [
  {
   "cell_type": "code",
   "execution_count": null,
   "metadata": {},
   "outputs": [],
   "source": [
    "#1\n",
    "def divisible_by_5_and_7(n):\n",
    "    for num in range(n + 1):\n",
    "        if num % 5 == 0 and num % 7 == 0:\n",
    "            yield num\n",
    "\n",
    "# Get input of n from the console\n",
    "n = int(input(\"Enter the value of n: \"))\n",
    "\n",
    "# Generate and print the divisible numbers\n",
    "divisible_numbers = divisible_by_5_and_7(n)\n",
    "result = ', '.join(str(num) for num in divisible_numbers)\n",
    "print(\"Divisible numbers:\", result)\n"
   ]
  },
  {
   "cell_type": "code",
   "execution_count": null,
   "metadata": {},
   "outputs": [],
   "source": [
    "#2\n",
    "def even_numbers(n):\n",
    "    for num in range(n + 1):\n",
    "        if num % 2 == 0:\n",
    "            yield num\n",
    "\n",
    "# Get input of n from the console\n",
    "n = int(input(\"Enter the value of n: \"))\n",
    "\n",
    "# Generate and print the even numbers\n",
    "even_nums = even_numbers(n)\n",
    "result = ', '.join(str(num) for num in even_nums)\n",
    "print(\"Even numbers:\", result)\n"
   ]
  },
  {
   "cell_type": "code",
   "execution_count": null,
   "metadata": {},
   "outputs": [],
   "source": [
    "#3\n",
    "def fibonacci(n):\n",
    "    if n <= 1:\n",
    "        return n\n",
    "    else:\n",
    "        return fibonacci(n - 1) + fibonacci(n - 2)\n",
    "fibonacci_number = fibonacci(6)\n",
    "print(fibonacci_number)  # Output: 8\n"
   ]
  },
  {
   "cell_type": "code",
   "execution_count": null,
   "metadata": {},
   "outputs": [],
   "source": [
    "#4\n",
    "def extract_username(email):\n",
    "    # Split the email address into username and domain parts\n",
    "    parts = email.split(\"@\")\n",
    "    \n",
    "    # Extract the username from the first part\n",
    "    username = parts[0]\n",
    "\n",
    "    return username\n",
    "\n",
    "# Get input of email address from the user\n",
    "email_address = input(\"Enter an email address: \")\n",
    "\n",
    "# Extract the username from the email address\n",
    "username = extract_username(email_address)\n",
    "\n",
    "# Print the username\n",
    "print(\"Username:\", username)\n"
   ]
  },
  {
   "cell_type": "code",
   "execution_count": null,
   "metadata": {},
   "outputs": [],
   "source": [
    "#5\n",
    "class Shape:\n",
    "    def __init__(self):\n",
    "        pass\n",
    "\n",
    "    def area(self):\n",
    "        print(\"Area of the shape: 0\")\n",
    "\n",
    "\n",
    "class Square(Shape):\n",
    "    def __init__(self, length):\n",
    "        self.length = length\n",
    "\n",
    "    def area(self):\n",
    "        area = self.length ** 2\n",
    "        print(f\"Area of the square: {area}\")\n",
    "\n",
    "\n",
    "# Create instances of the classes\n",
    "shape = Shape()\n",
    "square = Square(5)\n",
    "\n",
    "# Call the area method for each instance\n",
    "shape.area()   # Output: Area of the shape: 0\n",
    "square.area()  # Output: Area of the square: 25\n"
   ]
  },
  {
   "cell_type": "code",
   "execution_count": null,
   "metadata": {},
   "outputs": [],
   "source": []
  },
  {
   "cell_type": "code",
   "execution_count": null,
   "metadata": {},
   "outputs": [],
   "source": []
  }
 ],
 "metadata": {
  "kernelspec": {
   "display_name": "Python 3",
   "language": "python",
   "name": "python3"
  },
  "language_info": {
   "codemirror_mode": {
    "name": "ipython",
    "version": 3
   },
   "file_extension": ".py",
   "mimetype": "text/x-python",
   "name": "python",
   "nbconvert_exporter": "python",
   "pygments_lexer": "ipython3",
   "version": "3.8.16"
  },
  "orig_nbformat": 4
 },
 "nbformat": 4,
 "nbformat_minor": 2
}
