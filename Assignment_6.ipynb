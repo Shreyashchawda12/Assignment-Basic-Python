{
 "cells": [
  {
   "cell_type": "code",
   "execution_count": 1,
   "id": "380e8f21-4951-4053-acc1-075be6863bb6",
   "metadata": {},
   "outputs": [],
   "source": [
    "#1. What are escape characters, and how do you use them?\n",
    "#A. Escape characters are characters that are generally used to perform certain tasks and their usage in code directs the compiler to take a suitable action mapped to that character.For example \\n is used to leave line \\t used to leave the space."
   ]
  },
  {
   "cell_type": "code",
   "execution_count": 2,
   "id": "57df2ee4-da1c-4546-8f8e-409e3e7b57a8",
   "metadata": {},
   "outputs": [],
   "source": [
    "#2. What do the escape characters n and t stand for?\n",
    "#A. \\n is used to leave the line and \\t used to leave the space."
   ]
  },
  {
   "cell_type": "code",
   "execution_count": 3,
   "id": "c808bdfe-9e89-41b2-a4ae-fa3e8cd56ac4",
   "metadata": {},
   "outputs": [],
   "source": [
    "#3. What is the way to include backslash characters in a string?\n",
    "#A. \\\\ is used for backslash."
   ]
  },
  {
   "cell_type": "code",
   "execution_count": 5,
   "id": "efb3156b-be13-4b66-83aa-b876db91eeeb",
   "metadata": {},
   "outputs": [],
   "source": [
    "#4. The string \"Howl's Moving Castle\" is a correct value. Why isn't the single quote character in the word Howl's not escaped a problem?\n",
    "#A. string has double quote and howl's use single quote so it can be used different quote inside but same quote used at both will give an error."
   ]
  },
  {
   "cell_type": "code",
   "execution_count": 9,
   "id": "f6825df7-da2f-4359-b2af-e9a7cc06fb65",
   "metadata": {},
   "outputs": [
    {
     "name": "stdout",
     "output_type": "stream",
     "text": [
      "\n",
      "shreyash\n",
      "chawda\n",
      "\n"
     ]
    }
   ],
   "source": [
    "#5. How do you write a string of newlines if you don't want to use the n character?\n",
    "#A. Using '''  ''' quoted format. for example\n",
    "print('''\n",
    "shreyash\n",
    "chawda\n",
    "''')"
   ]
  },
  {
   "cell_type": "code",
   "execution_count": 10,
   "id": "81a48fad-13c2-476c-883c-a3801f96060c",
   "metadata": {},
   "outputs": [
    {
     "data": {
      "text/plain": [
       "'e'"
      ]
     },
     "execution_count": 10,
     "metadata": {},
     "output_type": "execute_result"
    }
   ],
   "source": [
    "#6. What are the values of the given expressions?\n",
    "'Hello, world!'[1] # slicing index 1"
   ]
  },
  {
   "cell_type": "code",
   "execution_count": 11,
   "id": "ae2d612d-92d6-4184-bd01-ef553ad7a183",
   "metadata": {},
   "outputs": [
    {
     "data": {
      "text/plain": [
       "'Hello'"
      ]
     },
     "execution_count": 11,
     "metadata": {},
     "output_type": "execute_result"
    }
   ],
   "source": [
    "'Hello, world!'[0:5] #slicing 0 to 5 index"
   ]
  },
  {
   "cell_type": "code",
   "execution_count": 12,
   "id": "ce796964-be4f-449b-8695-cf6bbbec323d",
   "metadata": {},
   "outputs": [
    {
     "data": {
      "text/plain": [
       "'Hello'"
      ]
     },
     "execution_count": 12,
     "metadata": {},
     "output_type": "execute_result"
    }
   ],
   "source": [
    "'Hello, world!'[:5] # slicing 0 to 5 index"
   ]
  },
  {
   "cell_type": "code",
   "execution_count": 13,
   "id": "8dcbdab2-7962-4f71-992e-df53ed41ac12",
   "metadata": {},
   "outputs": [
    {
     "data": {
      "text/plain": [
       "'lo, world!'"
      ]
     },
     "execution_count": 13,
     "metadata": {},
     "output_type": "execute_result"
    }
   ],
   "source": [
    "'Hello, world!'[3:] # slicing 3 to end index of the string"
   ]
  },
  {
   "cell_type": "code",
   "execution_count": 15,
   "id": "01dfcc40-823f-4102-ae7c-3e494b90d939",
   "metadata": {},
   "outputs": [
    {
     "data": {
      "text/plain": [
       "'HELLO'"
      ]
     },
     "execution_count": 15,
     "metadata": {},
     "output_type": "execute_result"
    }
   ],
   "source": [
    "#7. What are the values of the following expressions?\n",
    "'Hello'.upper() # all upper character"
   ]
  },
  {
   "cell_type": "code",
   "execution_count": 18,
   "id": "b2c088a2-692b-45dc-942f-5cf581a258ed",
   "metadata": {},
   "outputs": [
    {
     "data": {
      "text/plain": [
       "True"
      ]
     },
     "execution_count": 18,
     "metadata": {},
     "output_type": "execute_result"
    }
   ],
   "source": [
    "'hello'.upper().isupper() # check the condition that if any upper value present in the string"
   ]
  },
  {
   "cell_type": "code",
   "execution_count": 20,
   "id": "82731fce-c25b-4eac-9ade-3c50fa08c229",
   "metadata": {},
   "outputs": [
    {
     "data": {
      "text/plain": [
       "'hello'"
      ]
     },
     "execution_count": 20,
     "metadata": {},
     "output_type": "execute_result"
    }
   ],
   "source": [
    "'Hello'.upper().lower() # first all character converts into upper and then in lower case."
   ]
  },
  {
   "cell_type": "code",
   "execution_count": 22,
   "id": "62963499-7775-44b6-8088-7a541685df6c",
   "metadata": {},
   "outputs": [
    {
     "data": {
      "text/plain": [
       "['Remember,', 'remember,', 'the', 'fifth', 'of', 'July.']"
      ]
     },
     "execution_count": 22,
     "metadata": {},
     "output_type": "execute_result"
    }
   ],
   "source": [
    "#8. What are the values of the following expressions?\n",
    "'Remember, remember, the fifth of July.'.split() # split the word in the string"
   ]
  },
  {
   "cell_type": "code",
   "execution_count": 24,
   "id": "47910a07-0ba6-45e4-865c-e7f3c7bfce7d",
   "metadata": {},
   "outputs": [
    {
     "data": {
      "text/plain": [
       "'There-can-only-one.'"
      ]
     },
     "execution_count": 24,
     "metadata": {},
     "output_type": "execute_result"
    }
   ],
   "source": [
    "'-'.join('There can only one.'.split()) # it split each word and join it by - in the string.\n"
   ]
  },
  {
   "cell_type": "code",
   "execution_count": 25,
   "id": "fc9c339c-6cf3-44d3-bcc1-329da45f649b",
   "metadata": {},
   "outputs": [],
   "source": [
    "#9. What are the methods for right-justifying, left-justifying, and centering a string?\n",
    "#A. rjust(len,fillchr)  ljust(len,fillchr)  center(len,fillchr)"
   ]
  },
  {
   "cell_type": "code",
   "execution_count": 26,
   "id": "6329606f-403b-4477-b4d7-f4620bcad873",
   "metadata": {},
   "outputs": [],
   "source": [
    "#10. What is the best way to remove whitespace characters from the start or end?\n",
    "#A.  str.remove(\" \" , \"\")"
   ]
  },
  {
   "cell_type": "code",
   "execution_count": null,
   "id": "b480fcf7-f1f4-4e8c-901d-ac4885c17793",
   "metadata": {},
   "outputs": [],
   "source": []
  }
 ],
 "metadata": {
  "kernelspec": {
   "display_name": "Python 3 (ipykernel)",
   "language": "python",
   "name": "python3"
  },
  "language_info": {
   "codemirror_mode": {
    "name": "ipython",
    "version": 3
   },
   "file_extension": ".py",
   "mimetype": "text/x-python",
   "name": "python",
   "nbconvert_exporter": "python",
   "pygments_lexer": "ipython3",
   "version": "3.10.6"
  }
 },
 "nbformat": 4,
 "nbformat_minor": 5
}
