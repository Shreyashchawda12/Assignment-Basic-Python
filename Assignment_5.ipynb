{
 "cells": [
  {
   "cell_type": "code",
   "execution_count": 1,
   "id": "cd815777-7114-44d3-aa81-726481ac2729",
   "metadata": {},
   "outputs": [],
   "source": [
    "#1. What does an empty dictionary&#39;s code look like?\n",
    "#A. {}"
   ]
  },
  {
   "cell_type": "code",
   "execution_count": 2,
   "id": "98122e48-0b26-4f36-823f-8a28754391c2",
   "metadata": {},
   "outputs": [],
   "source": [
    "#2. What is the value of a dictionary value with the key 'foo' and the value 42?\n",
    "#A. {'foo':42} value is 42"
   ]
  },
  {
   "cell_type": "code",
   "execution_count": 3,
   "id": "4c9864e8-7c9d-4829-ab77-aefa45233938",
   "metadata": {},
   "outputs": [],
   "source": [
    "#3. What is the most significant distinction between a dictionary and a list?\n",
    "#A. syntax list = [] dict = {} , list has values and index  while dict has key, value pair."
   ]
  },
  {
   "cell_type": "code",
   "execution_count": 7,
   "id": "1653fb7c-16b6-487b-9d9c-31a58f3a79b6",
   "metadata": {},
   "outputs": [],
   "source": [
    "#4. What happens if you try to access spam['foo'] if spam is {'bar': 100}?\n",
    "#A. Its give keyError:'foo'"
   ]
  },
  {
   "cell_type": "code",
   "execution_count": 14,
   "id": "016c6cae-b2a4-4f48-b0e1-fcd3ccb7dd65",
   "metadata": {},
   "outputs": [],
   "source": [
    "#5. If a dictionary is stored in spam, what is the difference between the expressions 'cat' in spam and 'cat' in spam.keys()?\n",
    "#A. In 'cat' in dict its give the value and in spam.keys() its give specific dict_keys(['cat']) "
   ]
  },
  {
   "cell_type": "code",
   "execution_count": 15,
   "id": "bc855bfb-689a-45a1-af81-96f1fda34810",
   "metadata": {},
   "outputs": [],
   "source": [
    "#6. If a dictionary is stored in spam, what is the difference between the expressions 'cat' in spam and 'cat' in spam.values()?\n",
    "#A. In first it gives one value of cat while in other it will give all values in dict"
   ]
  },
  {
   "cell_type": "code",
   "execution_count": 16,
   "id": "d28f63d1-543c-4a10-9e1a-fd6424374910",
   "metadata": {},
   "outputs": [
    {
     "data": {
      "text/plain": [
       "\"\\nif 'color' not in spam:\\n    spam['color'] = 'black'\\n    \\nA)  spam.__setitem__('color','black')\\n\""
      ]
     },
     "execution_count": 16,
     "metadata": {},
     "output_type": "execute_result"
    }
   ],
   "source": [
    "#7. What is a shortcut for the following code?\n",
    "'''\n",
    "if 'color' not in spam:\n",
    "    spam['color'] = 'black'\n",
    "    \n",
    "A)  spam.__setitem__('color','black')\n",
    "'''"
   ]
  },
  {
   "cell_type": "code",
   "execution_count": 17,
   "id": "f50cdb1d-6d5d-4eab-8f0e-6b4b1fe4bcdc",
   "metadata": {},
   "outputs": [],
   "source": [
    "#8. How do you &quot;pretty print&quot; dictionary values using which module and function?\n",
    "#A. pprint()"
   ]
  },
  {
   "cell_type": "code",
   "execution_count": null,
   "id": "ee59d968-71a5-4396-899d-d57ef6dd47ed",
   "metadata": {},
   "outputs": [],
   "source": []
  }
 ],
 "metadata": {
  "kernelspec": {
   "display_name": "Python 3 (ipykernel)",
   "language": "python",
   "name": "python3"
  },
  "language_info": {
   "codemirror_mode": {
    "name": "ipython",
    "version": 3
   },
   "file_extension": ".py",
   "mimetype": "text/x-python",
   "name": "python",
   "nbconvert_exporter": "python",
   "pygments_lexer": "ipython3",
   "version": "3.10.6"
  }
 },
 "nbformat": 4,
 "nbformat_minor": 5
}
