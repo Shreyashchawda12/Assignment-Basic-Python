{
 "cells": [
  {
   "cell_type": "code",
   "execution_count": 1,
   "id": "f706b2f0-744b-4363-9ace-ee9d6807f198",
   "metadata": {},
   "outputs": [],
   "source": [
    "#1. What exactly is []?\n",
    "#A. it is a blank list"
   ]
  },
  {
   "cell_type": "code",
   "execution_count": 2,
   "id": "083d9edd-a2d1-49bc-aabd-ba57791ef3f5",
   "metadata": {},
   "outputs": [],
   "source": [
    "#2. In a list of values stored in a variable called spam, how would you assign the value 'hello' as the third value? (Assume [2, 4, 6, 8, 10] are in spam.\n",
    "#A. spam[2] = \"hello\""
   ]
  },
  {
   "cell_type": "code",
   "execution_count": 3,
   "id": "d1de3d50-537e-4c62-8942-73282a1fcdcd",
   "metadata": {},
   "outputs": [],
   "source": [
    "#3. What is the value of spam[int(int('3' * 2) / 11)]?\n",
    "#A. spam[3] = 'd'"
   ]
  },
  {
   "cell_type": "code",
   "execution_count": 14,
   "id": "52be03fe-b220-44d1-8aaf-f5dadc25c54f",
   "metadata": {},
   "outputs": [],
   "source": [
    "#4. What is the value of spam[-1]?\n",
    "#A. spam[-1] = 'd'"
   ]
  },
  {
   "cell_type": "code",
   "execution_count": null,
   "id": "c9b6e107-1ab3-444b-8981-37b72b446507",
   "metadata": {},
   "outputs": [],
   "source": [
    "#5. What is the value of spam[:2]?\n",
    "#A. spam[:2] = ['a', 'b']"
   ]
  },
  {
   "cell_type": "code",
   "execution_count": 13,
   "id": "eec6c3ea-504b-494d-bd1a-c3caa77b168e",
   "metadata": {},
   "outputs": [],
   "source": [
    "bacon = [3.14, 'cat', 11, 'cat', True] "
   ]
  },
  {
   "cell_type": "code",
   "execution_count": 8,
   "id": "4429e7bb-f795-4777-9f46-c91e069f323e",
   "metadata": {},
   "outputs": [],
   "source": [
    "#6. What is the value of bacon.index('cat')"
   ]
  },
  {
   "cell_type": "code",
   "execution_count": 15,
   "id": "59a7c1d5-ebc3-4053-9b41-c72dcd58757a",
   "metadata": {},
   "outputs": [
    {
     "data": {
      "text/plain": [
       "1"
      ]
     },
     "execution_count": 15,
     "metadata": {},
     "output_type": "execute_result"
    }
   ],
   "source": [
    " bacon.index('cat')"
   ]
  },
  {
   "cell_type": "code",
   "execution_count": 17,
   "id": "05ff633e-39b8-49b3-9158-cbbbffc77ad9",
   "metadata": {},
   "outputs": [],
   "source": [
    "#7.How does bacon.append(99) change the look of the list value in bacon?\n",
    "bacon.append(99)"
   ]
  },
  {
   "cell_type": "code",
   "execution_count": 18,
   "id": "a3c140cf-96d3-4fcf-bf42-4abdc8484567",
   "metadata": {},
   "outputs": [
    {
     "data": {
      "text/plain": [
       "[3.14, 'cat', 11, 'cat', True, 99]"
      ]
     },
     "execution_count": 18,
     "metadata": {},
     "output_type": "execute_result"
    }
   ],
   "source": [
    "bacon"
   ]
  },
  {
   "cell_type": "code",
   "execution_count": 19,
   "id": "78fcf751-df70-49cf-acb4-375ea8122772",
   "metadata": {},
   "outputs": [
    {
     "data": {
      "text/plain": [
       "[3.14, 11, 'cat', True, 99]"
      ]
     },
     "execution_count": 19,
     "metadata": {},
     "output_type": "execute_result"
    }
   ],
   "source": [
    "#8. How does bacon.remove('cat') change the look of the list in bacon?\n",
    "bacon.remove('cat')\n",
    "bacon # first word cat is remove and second remains as it is."
   ]
  },
  {
   "cell_type": "code",
   "execution_count": 20,
   "id": "2922a946-90fb-4bf9-93c2-648b606d7d61",
   "metadata": {},
   "outputs": [],
   "source": [
    "#9. What are the list concatenation and list replication operators?\n",
    "#A. two list concat into one list is called list concatenation, + operator is used.One list replicates itself is called list replication * operator is used for that.\n"
   ]
  },
  {
   "cell_type": "code",
   "execution_count": 21,
   "id": "bbc701da-73f6-4dff-b86f-a115107682cc",
   "metadata": {},
   "outputs": [],
   "source": [
    "#10. What is difference between the list methods append() and insert()?\n",
    "#A. In append() element is inserted at last and in insert() element is inserted using index"
   ]
  },
  {
   "cell_type": "code",
   "execution_count": 22,
   "id": "80713500-2692-4b7a-ab18-267f58d8685a",
   "metadata": {},
   "outputs": [],
   "source": [
    "#11. What are the two methods for removing items from a list?\n",
    "#A. pop() and remove()"
   ]
  },
  {
   "cell_type": "code",
   "execution_count": 23,
   "id": "a605b29a-ff46-4f05-addc-e93aa4dbaa49",
   "metadata": {},
   "outputs": [],
   "source": [
    "#12. Describe how list values and string values are identical.\n",
    "#A. List and string both are used to store value and both are sequence."
   ]
  },
  {
   "cell_type": "code",
   "execution_count": 24,
   "id": "aafaebf3-2ada-4b95-9251-f8573864c15b",
   "metadata": {},
   "outputs": [],
   "source": [
    "#13. What's the difference between tuples and lists?\n",
    "#A. list are mutable and tuples are immutable"
   ]
  },
  {
   "cell_type": "code",
   "execution_count": 25,
   "id": "75111051-2b18-4e83-a240-782a9d70938b",
   "metadata": {},
   "outputs": [
    {
     "data": {
      "text/plain": [
       "(42,)"
      ]
     },
     "execution_count": 25,
     "metadata": {},
     "output_type": "execute_result"
    }
   ],
   "source": [
    "#14. How do you type a tuple value that only contains the integer 42?\n",
    "a = (42, )\n",
    "a"
   ]
  },
  {
   "cell_type": "code",
   "execution_count": 26,
   "id": "bce36558-e74d-4746-b290-3bb0c4da5d2b",
   "metadata": {},
   "outputs": [
    {
     "data": {
      "text/plain": [
       "(1, 2, 3, 4, 5)"
      ]
     },
     "execution_count": 26,
     "metadata": {},
     "output_type": "execute_result"
    }
   ],
   "source": [
    "#15. How do you get a list value's tuple form? How do you get a tuple value's list form?\n",
    "a = [1,2,3,4,5]\n",
    "tuple(a)"
   ]
  },
  {
   "cell_type": "code",
   "execution_count": 29,
   "id": "d0a3e9ea-4aaa-443c-b531-db6417628009",
   "metadata": {},
   "outputs": [
    {
     "data": {
      "text/plain": [
       "[2, 4, 6, 8]"
      ]
     },
     "execution_count": 29,
     "metadata": {},
     "output_type": "execute_result"
    }
   ],
   "source": [
    "b = (2,4,6,8)\n",
    "list(b)"
   ]
  },
  {
   "cell_type": "code",
   "execution_count": 30,
   "id": "ec9de821-4208-45e9-8e0c-b74b0725d97d",
   "metadata": {},
   "outputs": [],
   "source": [
    "#16. Variables that \"contain\" list values are not necessarily lists themselves. Instead, what do they contain?\n",
    "#A. values"
   ]
  },
  {
   "cell_type": "code",
   "execution_count": 33,
   "id": "1662837a-2a84-4113-aa6a-372fe2a1f9fa",
   "metadata": {},
   "outputs": [],
   "source": [
    "#17. How do you distinguish between copy.copy() and copy.deepcopy()?\n",
    "#A.  In the case of shallow copy which is copy.copy(), a reference of an object is copied into another object.In the case of deep copy copy.deepcopy(), a copy of the object is copied into another object."
   ]
  },
  {
   "cell_type": "code",
   "execution_count": null,
   "id": "34626975-1afc-4556-a10c-a485ccdeaa10",
   "metadata": {},
   "outputs": [],
   "source": []
  }
 ],
 "metadata": {
  "kernelspec": {
   "display_name": "Python 3 (ipykernel)",
   "language": "python",
   "name": "python3"
  },
  "language_info": {
   "codemirror_mode": {
    "name": "ipython",
    "version": 3
   },
   "file_extension": ".py",
   "mimetype": "text/x-python",
   "name": "python",
   "nbconvert_exporter": "python",
   "pygments_lexer": "ipython3",
   "version": "3.10.6"
  }
 },
 "nbformat": 4,
 "nbformat_minor": 5
}
