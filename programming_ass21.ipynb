{
 "cells": [
  {
   "cell_type": "code",
   "execution_count": 1,
   "metadata": {},
   "outputs": [
    {
     "name": "stdout",
     "output_type": "stream",
     "text": [
      "[2, 3, 4, 5, 6]\n"
     ]
    }
   ],
   "source": [
    "#1\n",
    "def update_list(lst, number):\n",
    "    lst.append(number)  # Add the number to the end of the list\n",
    "    updated_lst = lst[1:]  # Remove the first element by slicing the list from index 1 onwards\n",
    "    return updated_lst\n",
    "\n",
    "my_list = [1, 2, 3, 4, 5]\n",
    "new_list = update_list(my_list, 6)\n",
    "print(new_list)  # The updated list after adding 6 and removing the first element: [2, 3, 4, 5, 6]\n"
   ]
  },
  {
   "cell_type": "code",
   "execution_count": 2,
   "metadata": {},
   "outputs": [
    {
     "name": "stdout",
     "output_type": "stream",
     "text": [
      "65700\n",
      "62600\n"
     ]
    }
   ],
   "source": [
    "#2\n",
    "def get_budgets(persons):\n",
    "    budget_sum = 0\n",
    "    for person in persons:\n",
    "        budget_sum += person['budget']\n",
    "    return budget_sum\n",
    "\n",
    "persons1 = [\n",
    "    {\"name\": \"John\", \"age\": 21, \"budget\": 23000},\n",
    "    {\"name\": \"Steve\", \"age\": 32, \"budget\": 40000},\n",
    "    {\"name\": \"Martin\", \"age\": 16, \"budget\": 2700}\n",
    "]\n",
    "print(get_budgets(persons1))  # Output: 65700\n",
    "\n",
    "persons2 = [\n",
    "    {\"name\": \"John\", \"age\": 21, \"budget\": 29000},\n",
    "    {\"name\": \"Steve\", \"age\": 32, \"budget\": 32000},\n",
    "    {\"name\": \"Martin\", \"age\": 16, \"budget\": 1600}\n",
    "]\n",
    "print(get_budgets(persons2))  # Output: 62600\n"
   ]
  },
  {
   "cell_type": "code",
   "execution_count": 4,
   "metadata": {},
   "outputs": [
    {
     "name": "stdout",
     "output_type": "stream",
     "text": [
      " dehllloorw\n"
     ]
    }
   ],
   "source": [
    "#3\n",
    "def sort_letters(string):\n",
    "    sorted_string = ''.join(sorted(string))\n",
    "    return sorted_string\n",
    "\n",
    "input_string = \"hello world\"\n",
    "sorted_string = sort_letters(input_string)\n",
    "print(sorted_string)  # The string with its letters in alphabetical order: \" dehllloorw\"\n"
   ]
  },
  {
   "cell_type": "code",
   "execution_count": 5,
   "metadata": {},
   "outputs": [],
   "source": [
    "#4\n",
    "def compound_interest(p, t, r, n):\n",
    "    A = p * (1 + (r / n)) ** (n * t)\n",
    "    return round(A, 2)\n",
    "\n"
   ]
  },
  {
   "cell_type": "code",
   "execution_count": 6,
   "metadata": {},
   "outputs": [
    {
     "name": "stdout",
     "output_type": "stream",
     "text": [
      "[1, 2, 3, 4, 5]\n"
     ]
    }
   ],
   "source": [
    "#5\n",
    "def filter_integers(elements):\n",
    "    return [element for element in elements if isinstance(element, int)]\n",
    "\n",
    "input_list = [1, 'apple', 2, 'banana', 3, 'carrot', 4, 'dog', 5]\n",
    "filtered_list = filter_integers(input_list)\n",
    "print(filtered_list)  # The filtered list containing only the integers: [1, 2, 3, 4, 5]\n"
   ]
  },
  {
   "cell_type": "code",
   "execution_count": null,
   "metadata": {},
   "outputs": [],
   "source": []
  }
 ],
 "metadata": {
  "kernelspec": {
   "display_name": "Python 3",
   "language": "python",
   "name": "python3"
  },
  "language_info": {
   "codemirror_mode": {
    "name": "ipython",
    "version": 3
   },
   "file_extension": ".py",
   "mimetype": "text/x-python",
   "name": "python",
   "nbconvert_exporter": "python",
   "pygments_lexer": "ipython3",
   "version": "3.8.16"
  },
  "orig_nbformat": 4
 },
 "nbformat": 4,
 "nbformat_minor": 2
}
