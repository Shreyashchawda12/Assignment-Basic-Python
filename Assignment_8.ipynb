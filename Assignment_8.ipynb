{
 "cells": [
  {
   "cell_type": "code",
   "execution_count": 1,
   "id": "b358e296-1065-4847-9291-fdd04ddc5553",
   "metadata": {},
   "outputs": [],
   "source": [
    "#1.Is the Python Standard Library included with PyInputPlus?\n",
    "#A. PyInputPlus is not a part of the Python Standard Library, so you must install it separately using Pip"
   ]
  },
  {
   "cell_type": "code",
   "execution_count": 2,
   "id": "2eb7102e-b8d1-4977-9bc7-97e23f5e6d2b",
   "metadata": {},
   "outputs": [],
   "source": [
    "#2 Why is PyInputPlus commonly imported with import pyinputplus as pypi?\n",
    "#A. It is a alias which is used we can give any name. "
   ]
  },
  {
   "cell_type": "code",
   "execution_count": 3,
   "id": "e5049203-8ab3-4935-a3f1-8fc959f8f5fc",
   "metadata": {},
   "outputs": [],
   "source": [
    "#3  How do you distinguish between inputInt() and inputFloat()?\n",
    "#A. inputint() except integer as input while inputFloat() except floating point number as input."
   ]
  },
  {
   "cell_type": "code",
   "execution_count": 9,
   "id": "0b0af020-6e79-42c9-9a44-f2d2b540e051",
   "metadata": {},
   "outputs": [
    {
     "name": "stdout",
     "output_type": "stream",
     "text": [
      "Requirement already satisfied: pyinputplus in /opt/conda/lib/python3.10/site-packages (0.2.12)\n",
      "Requirement already satisfied: pysimplevalidate>=0.2.7 in /opt/conda/lib/python3.10/site-packages (from pyinputplus) (0.2.12)\n",
      "Requirement already satisfied: stdiomask>=0.0.3 in /opt/conda/lib/python3.10/site-packages (from pyinputplus) (0.0.6)\n"
     ]
    },
    {
     "name": "stdin",
     "output_type": "stream",
     "text": [
      " 45\n"
     ]
    },
    {
     "data": {
      "text/plain": [
       "45"
      ]
     },
     "execution_count": 9,
     "metadata": {},
     "output_type": "execute_result"
    }
   ],
   "source": [
    "#4. Using PyInputPlus, how do you ensure that the user enters a whole number between 0 and 99?\n",
    "!pip install pyinputplus\n",
    "import pyinputplus as pyip\n",
    "pyip.inputInt(min = 0, max =99)"
   ]
  },
  {
   "cell_type": "code",
   "execution_count": 10,
   "id": "053258ac-8050-41ac-96e0-1322d3e34e9d",
   "metadata": {},
   "outputs": [],
   "source": [
    "#5. What is transferred to the keyword arguments allowRegexes and blockRegexes?\n",
    "#A. response = pyip.inputNum(allowRegexes=[r'(I|V|X|L|C|D|M)+', r'zero']) "
   ]
  },
  {
   "cell_type": "code",
   "execution_count": 11,
   "id": "a92a1314-9eb5-4f61-bd87-3f5bc528a8a6",
   "metadata": {},
   "outputs": [
    {
     "name": "stdin",
     "output_type": "stream",
     "text": [
      " \n"
     ]
    },
    {
     "name": "stdout",
     "output_type": "stream",
     "text": [
      "Blank values are not allowed.\n"
     ]
    },
    {
     "name": "stdin",
     "output_type": "stream",
     "text": [
      " \n"
     ]
    },
    {
     "name": "stdout",
     "output_type": "stream",
     "text": [
      "Blank values are not allowed.\n"
     ]
    },
    {
     "name": "stdin",
     "output_type": "stream",
     "text": [
      " \n"
     ]
    },
    {
     "name": "stdout",
     "output_type": "stream",
     "text": [
      "Blank values are not allowed.\n"
     ]
    },
    {
     "ename": "RetryLimitException",
     "evalue": "",
     "output_type": "error",
     "traceback": [
      "\u001b[0;31m---------------------------------------------------------------------------\u001b[0m",
      "\u001b[0;31mValidationException\u001b[0m                       Traceback (most recent call last)",
      "File \u001b[0;32m/opt/conda/lib/python3.10/site-packages/pyinputplus/__init__.py:167\u001b[0m, in \u001b[0;36m_genericInput\u001b[0;34m(prompt, default, timeout, limit, applyFunc, validationFunc, postValidateApplyFunc, passwordMask)\u001b[0m\n\u001b[1;32m    166\u001b[0m \u001b[38;5;28;01mtry\u001b[39;00m:\n\u001b[0;32m--> 167\u001b[0m     possibleNewUserInput \u001b[38;5;241m=\u001b[39m \u001b[43mvalidationFunc\u001b[49m\u001b[43m(\u001b[49m\n\u001b[1;32m    168\u001b[0m \u001b[43m        \u001b[49m\u001b[43muserInput\u001b[49m\n\u001b[1;32m    169\u001b[0m \u001b[43m    \u001b[49m\u001b[43m)\u001b[49m  \u001b[38;5;66;03m# If validation fails, this function will raise an exception. Returns an updated value to use as user input (e.g. stripped of whitespace, etc.)\u001b[39;00m\n\u001b[1;32m    170\u001b[0m     \u001b[38;5;28;01mif\u001b[39;00m possibleNewUserInput \u001b[38;5;129;01mis\u001b[39;00m \u001b[38;5;129;01mnot\u001b[39;00m \u001b[38;5;28;01mNone\u001b[39;00m:\n",
      "File \u001b[0;32m/opt/conda/lib/python3.10/site-packages/pyinputplus/__init__.py:243\u001b[0m, in \u001b[0;36minputStr.<locals>.<lambda>\u001b[0;34m(value)\u001b[0m\n\u001b[1;32m    241\u001b[0m pysv\u001b[38;5;241m.\u001b[39m_validateGenericParameters(blank, strip, allowRegexes, blockRegexes)\n\u001b[0;32m--> 243\u001b[0m validationFunc \u001b[38;5;241m=\u001b[39m \u001b[38;5;28;01mlambda\u001b[39;00m value: \u001b[43mpysv\u001b[49m\u001b[38;5;241;43m.\u001b[39;49m\u001b[43m_prevalidationCheck\u001b[49m\u001b[43m(\u001b[49m\n\u001b[1;32m    244\u001b[0m \u001b[43m    \u001b[49m\u001b[43mvalue\u001b[49m\u001b[43m,\u001b[49m\u001b[43m \u001b[49m\u001b[43mblank\u001b[49m\u001b[38;5;241;43m=\u001b[39;49m\u001b[43mblank\u001b[49m\u001b[43m,\u001b[49m\u001b[43m \u001b[49m\u001b[43mstrip\u001b[49m\u001b[38;5;241;43m=\u001b[39;49m\u001b[43mstrip\u001b[49m\u001b[43m,\u001b[49m\u001b[43m \u001b[49m\u001b[43mallowRegexes\u001b[49m\u001b[38;5;241;43m=\u001b[39;49m\u001b[43mallowRegexes\u001b[49m\u001b[43m,\u001b[49m\u001b[43m \u001b[49m\u001b[43mblockRegexes\u001b[49m\u001b[38;5;241;43m=\u001b[39;49m\u001b[43mblockRegexes\u001b[49m\u001b[43m,\u001b[49m\u001b[43m \u001b[49m\u001b[43mexcMsg\u001b[49m\u001b[38;5;241;43m=\u001b[39;49m\u001b[38;5;28;43;01mNone\u001b[39;49;00m\u001b[43m,\u001b[49m\n\u001b[1;32m    245\u001b[0m \u001b[43m\u001b[49m\u001b[43m)\u001b[49m[\u001b[38;5;241m1\u001b[39m]\n\u001b[1;32m    247\u001b[0m \u001b[38;5;28;01mreturn\u001b[39;00m _genericInput(\n\u001b[1;32m    248\u001b[0m     prompt\u001b[38;5;241m=\u001b[39mprompt,\n\u001b[1;32m    249\u001b[0m     default\u001b[38;5;241m=\u001b[39mdefault,\n\u001b[0;32m   (...)\u001b[0m\n\u001b[1;32m    254\u001b[0m     validationFunc\u001b[38;5;241m=\u001b[39mvalidationFunc,\n\u001b[1;32m    255\u001b[0m )\n",
      "File \u001b[0;32m/opt/conda/lib/python3.10/site-packages/pysimplevalidate/__init__.py:250\u001b[0m, in \u001b[0;36m_prevalidationCheck\u001b[0;34m(value, blank, strip, allowRegexes, blockRegexes, excMsg)\u001b[0m\n\u001b[1;32m    248\u001b[0m \u001b[38;5;28;01mif\u001b[39;00m \u001b[38;5;129;01mnot\u001b[39;00m blank \u001b[38;5;129;01mand\u001b[39;00m value \u001b[38;5;241m==\u001b[39m \u001b[38;5;124m\"\u001b[39m\u001b[38;5;124m\"\u001b[39m:\n\u001b[1;32m    249\u001b[0m     \u001b[38;5;66;03m# value is blank but blanks aren't allowed.\u001b[39;00m\n\u001b[0;32m--> 250\u001b[0m     \u001b[43m_raiseValidationException\u001b[49m\u001b[43m(\u001b[49m\u001b[43m_\u001b[49m\u001b[43m(\u001b[49m\u001b[38;5;124;43m\"\u001b[39;49m\u001b[38;5;124;43mBlank values are not allowed.\u001b[39;49m\u001b[38;5;124;43m\"\u001b[39;49m\u001b[43m)\u001b[49m\u001b[43m,\u001b[49m\u001b[43m \u001b[49m\u001b[43mexcMsg\u001b[49m\u001b[43m)\u001b[49m\n\u001b[1;32m    251\u001b[0m \u001b[38;5;28;01melif\u001b[39;00m blank \u001b[38;5;129;01mand\u001b[39;00m value \u001b[38;5;241m==\u001b[39m \u001b[38;5;124m\"\u001b[39m\u001b[38;5;124m\"\u001b[39m:\n",
      "File \u001b[0;32m/opt/conda/lib/python3.10/site-packages/pysimplevalidate/__init__.py:222\u001b[0m, in \u001b[0;36m_raiseValidationException\u001b[0;34m(standardExcMsg, customExcMsg)\u001b[0m\n\u001b[1;32m    221\u001b[0m \u001b[38;5;28;01mif\u001b[39;00m customExcMsg \u001b[38;5;129;01mis\u001b[39;00m \u001b[38;5;28;01mNone\u001b[39;00m:\n\u001b[0;32m--> 222\u001b[0m     \u001b[38;5;28;01mraise\u001b[39;00m ValidationException(\u001b[38;5;28mstr\u001b[39m(standardExcMsg))\n\u001b[1;32m    223\u001b[0m \u001b[38;5;28;01melse\u001b[39;00m:\n",
      "\u001b[0;31mValidationException\u001b[0m: Blank values are not allowed.",
      "\nDuring handling of the above exception, another exception occurred:\n",
      "\u001b[0;31mRetryLimitException\u001b[0m                       Traceback (most recent call last)",
      "Cell \u001b[0;32mIn [11], line 2\u001b[0m\n\u001b[1;32m      1\u001b[0m \u001b[38;5;66;03m#6.  If a blank input is entered three times, what does inputStr(limit=3) do?\u001b[39;00m\n\u001b[0;32m----> 2\u001b[0m response \u001b[38;5;241m=\u001b[39m \u001b[43mpyip\u001b[49m\u001b[38;5;241;43m.\u001b[39;49m\u001b[43minputStr\u001b[49m\u001b[43m(\u001b[49m\u001b[43mlimit\u001b[49m\u001b[38;5;241;43m=\u001b[39;49m\u001b[38;5;241;43m3\u001b[39;49m\u001b[43m)\u001b[49m\n",
      "File \u001b[0;32m/opt/conda/lib/python3.10/site-packages/pyinputplus/__init__.py:247\u001b[0m, in \u001b[0;36minputStr\u001b[0;34m(prompt, default, blank, timeout, limit, strip, allowRegexes, blockRegexes, applyFunc, postValidateApplyFunc)\u001b[0m\n\u001b[1;32m    241\u001b[0m pysv\u001b[38;5;241m.\u001b[39m_validateGenericParameters(blank, strip, allowRegexes, blockRegexes)\n\u001b[1;32m    243\u001b[0m validationFunc \u001b[38;5;241m=\u001b[39m \u001b[38;5;28;01mlambda\u001b[39;00m value: pysv\u001b[38;5;241m.\u001b[39m_prevalidationCheck(\n\u001b[1;32m    244\u001b[0m     value, blank\u001b[38;5;241m=\u001b[39mblank, strip\u001b[38;5;241m=\u001b[39mstrip, allowRegexes\u001b[38;5;241m=\u001b[39mallowRegexes, blockRegexes\u001b[38;5;241m=\u001b[39mblockRegexes, excMsg\u001b[38;5;241m=\u001b[39m\u001b[38;5;28;01mNone\u001b[39;00m,\n\u001b[1;32m    245\u001b[0m )[\u001b[38;5;241m1\u001b[39m]\n\u001b[0;32m--> 247\u001b[0m \u001b[38;5;28;01mreturn\u001b[39;00m \u001b[43m_genericInput\u001b[49m\u001b[43m(\u001b[49m\n\u001b[1;32m    248\u001b[0m \u001b[43m    \u001b[49m\u001b[43mprompt\u001b[49m\u001b[38;5;241;43m=\u001b[39;49m\u001b[43mprompt\u001b[49m\u001b[43m,\u001b[49m\n\u001b[1;32m    249\u001b[0m \u001b[43m    \u001b[49m\u001b[43mdefault\u001b[49m\u001b[38;5;241;43m=\u001b[39;49m\u001b[43mdefault\u001b[49m\u001b[43m,\u001b[49m\n\u001b[1;32m    250\u001b[0m \u001b[43m    \u001b[49m\u001b[43mtimeout\u001b[49m\u001b[38;5;241;43m=\u001b[39;49m\u001b[43mtimeout\u001b[49m\u001b[43m,\u001b[49m\n\u001b[1;32m    251\u001b[0m \u001b[43m    \u001b[49m\u001b[43mlimit\u001b[49m\u001b[38;5;241;43m=\u001b[39;49m\u001b[43mlimit\u001b[49m\u001b[43m,\u001b[49m\n\u001b[1;32m    252\u001b[0m \u001b[43m    \u001b[49m\u001b[43mapplyFunc\u001b[49m\u001b[38;5;241;43m=\u001b[39;49m\u001b[43mapplyFunc\u001b[49m\u001b[43m,\u001b[49m\n\u001b[1;32m    253\u001b[0m \u001b[43m    \u001b[49m\u001b[43mpostValidateApplyFunc\u001b[49m\u001b[38;5;241;43m=\u001b[39;49m\u001b[43mpostValidateApplyFunc\u001b[49m\u001b[43m,\u001b[49m\n\u001b[1;32m    254\u001b[0m \u001b[43m    \u001b[49m\u001b[43mvalidationFunc\u001b[49m\u001b[38;5;241;43m=\u001b[39;49m\u001b[43mvalidationFunc\u001b[49m\u001b[43m,\u001b[49m\n\u001b[1;32m    255\u001b[0m \u001b[43m\u001b[49m\u001b[43m)\u001b[49m\n",
      "File \u001b[0;32m/opt/conda/lib/python3.10/site-packages/pyinputplus/__init__.py:188\u001b[0m, in \u001b[0;36m_genericInput\u001b[0;34m(prompt, default, timeout, limit, applyFunc, validationFunc, postValidateApplyFunc, passwordMask)\u001b[0m\n\u001b[1;32m    185\u001b[0m         \u001b[38;5;28;01mreturn\u001b[39;00m default\n\u001b[1;32m    186\u001b[0m     \u001b[38;5;28;01melse\u001b[39;00m:\n\u001b[1;32m    187\u001b[0m         \u001b[38;5;66;03m# If there is no default, then raise the timeout/limit exception.\u001b[39;00m\n\u001b[0;32m--> 188\u001b[0m         \u001b[38;5;28;01mraise\u001b[39;00m limitOrTimeoutException\n\u001b[1;32m    189\u001b[0m \u001b[38;5;28;01melse\u001b[39;00m:\n\u001b[1;32m    190\u001b[0m     \u001b[38;5;66;03m# If there was no timeout/limit exceeded, let the user enter input again.\u001b[39;00m\n\u001b[1;32m    191\u001b[0m     \u001b[38;5;28;01mcontinue\u001b[39;00m\n",
      "\u001b[0;31mRetryLimitException\u001b[0m: "
     ]
    }
   ],
   "source": [
    "#6.  If a blank input is entered three times, what does inputStr(limit=3) do?\n",
    "response = pyip.inputStr(limit=3) #RetryLimitException"
   ]
  },
  {
   "cell_type": "code",
   "execution_count": 12,
   "id": "58f3b976-348f-40dc-afcb-457b43b2e7c1",
   "metadata": {},
   "outputs": [],
   "source": [
    "#7. If blank input is entered three times, what does inputStr(limit=3, default='hello') do?\n",
    "#A. if limit exist by passing blank it will by default gives hello string as output."
   ]
  },
  {
   "cell_type": "code",
   "execution_count": null,
   "id": "eac01641-cfd8-4468-9afc-a406646bcd9e",
   "metadata": {},
   "outputs": [],
   "source": []
  }
 ],
 "metadata": {
  "kernelspec": {
   "display_name": "Python 3 (ipykernel)",
   "language": "python",
   "name": "python3"
  },
  "language_info": {
   "codemirror_mode": {
    "name": "ipython",
    "version": 3
   },
   "file_extension": ".py",
   "mimetype": "text/x-python",
   "name": "python",
   "nbconvert_exporter": "python",
   "pygments_lexer": "ipython3",
   "version": "3.10.6"
  }
 },
 "nbformat": 4,
 "nbformat_minor": 5
}
