{
 "cells": [
  {
   "cell_type": "code",
   "execution_count": 1,
   "id": "4d5a3a3a-5938-4656-9fd0-f372df3c8a02",
   "metadata": {},
   "outputs": [],
   "source": [
    "#1. Why are functions advantageous to have in your programs?\n",
    "#A. To avoid repeatation of same task again and again its easy to wrap the task in function and whenever require just we have to call the function."
   ]
  },
  {
   "cell_type": "code",
   "execution_count": 2,
   "id": "1513174b-fc56-42a3-b305-b5165b9fd7c6",
   "metadata": {},
   "outputs": [],
   "source": [
    "#2. When does the code in a function run: when it's specified or when it's called?\n",
    "#A. The code runs when we called the function. "
   ]
  },
  {
   "cell_type": "code",
   "execution_count": 3,
   "id": "c9f3ef23-6c17-493f-87de-550b1b963294",
   "metadata": {},
   "outputs": [],
   "source": [
    "#3. What statement creates a function?\n",
    "#A. there is special keyword known as def, function name and parameters if require which is used to create function."
   ]
  },
  {
   "cell_type": "code",
   "execution_count": 4,
   "id": "aebb9778-e1d4-451f-83f6-d2fc44709c96",
   "metadata": {},
   "outputs": [],
   "source": [
    "#4. What is the difference between a function and a function call?\n",
    "#A. Function is specifically wrapping of task and when we want to execute that task we call the function which is known as function call."
   ]
  },
  {
   "cell_type": "code",
   "execution_count": 5,
   "id": "51c9ce07-ea6a-4256-8677-e7fb0a36ec72",
   "metadata": {},
   "outputs": [],
   "source": [
    "#5. How many global scopes are there in a Python program? How many local scopes?\n",
    "#A. There is one global and local scope, global is declare outside function in main body and accessible to throughout the code while local is declare inside the function."
   ]
  },
  {
   "cell_type": "code",
   "execution_count": null,
   "id": "5b575b10-b501-41da-b829-2bdce5f76262",
   "metadata": {},
   "outputs": [],
   "source": [
    "#6. What happens to variables in a local scope when the function call returns?\n",
    "#A. In local scope variable execute in a function and terminate aftr that."
   ]
  },
  {
   "cell_type": "code",
   "execution_count": 6,
   "id": "e3123b42-c915-405e-94f0-4c835bfa403c",
   "metadata": {},
   "outputs": [],
   "source": [
    "#7. What is the concept of a return value? Is it possible to have a return value in an expression?\n",
    "#A. It is a value which returns after executing function.Yes it is possible to return a value in an expression"
   ]
  },
  {
   "cell_type": "code",
   "execution_count": 7,
   "id": "bd4e832f-8cae-4e2a-b59d-3b9791ff07bf",
   "metadata": {},
   "outputs": [],
   "source": [
    "#8. If a function does not have a return statement, what is the return value of a call to that function?\n",
    "#A. return value is none"
   ]
  },
  {
   "cell_type": "code",
   "execution_count": 8,
   "id": "10216f72-fa7f-4c43-90d1-6ca1e05541ab",
   "metadata": {},
   "outputs": [],
   "source": [
    "#9. How do you make a function variable refer to the global variable?\n",
    "#A. defining by keyword global like global a"
   ]
  },
  {
   "cell_type": "code",
   "execution_count": 15,
   "id": "1d010512-3390-4f40-901c-5e3b10c6e850",
   "metadata": {},
   "outputs": [],
   "source": [
    "#10. What is the data type of None?\n",
    "#A. Datatype of None is NoneType"
   ]
  },
  {
   "cell_type": "code",
   "execution_count": 17,
   "id": "e1b03d9d-3780-46dd-84d5-f64e2112f140",
   "metadata": {},
   "outputs": [
    {
     "ename": "ModuleNotFoundError",
     "evalue": "No module named 'areallyourpetsnamederic'",
     "output_type": "error",
     "traceback": [
      "\u001b[0;31m---------------------------------------------------------------------------\u001b[0m",
      "\u001b[0;31mModuleNotFoundError\u001b[0m                       Traceback (most recent call last)",
      "Cell \u001b[0;32mIn [17], line 2\u001b[0m\n\u001b[1;32m      1\u001b[0m \u001b[38;5;66;03m#11. What does the sentence import areallyourpetsnamederic do?\u001b[39;00m\n\u001b[0;32m----> 2\u001b[0m \u001b[38;5;28;01mimport\u001b[39;00m \u001b[38;5;21;01mareallyourpetsnamederic\u001b[39;00m\n",
      "\u001b[0;31mModuleNotFoundError\u001b[0m: No module named 'areallyourpetsnamederic'"
     ]
    }
   ],
   "source": [
    "#11. What does the sentence import areallyourpetsnamederic do?\n",
    "import areallyourpetsnamederic #gives an error."
   ]
  },
  {
   "cell_type": "code",
   "execution_count": 11,
   "id": "a6bc4413-b611-40ff-9d42-fa5d80f781da",
   "metadata": {},
   "outputs": [],
   "source": [
    "#12. If you had a bacon() feature in a spam module, what would you call it after importing spam?\n",
    "#A. spam.bacon()"
   ]
  },
  {
   "cell_type": "code",
   "execution_count": 12,
   "id": "d554c830-0afe-42a5-b26e-aa57ca5ebcb2",
   "metadata": {},
   "outputs": [],
   "source": [
    "#13. What can you do to save a programme from crashing if it encounters an error?\n",
    "#A. try and exceptional handling is used to save program from crashing"
   ]
  },
  {
   "cell_type": "code",
   "execution_count": 18,
   "id": "c2e1c90d-b66f-4026-a31f-24efcd4621a3",
   "metadata": {},
   "outputs": [],
   "source": [
    "#14. What is the purpose of the try clause? What is the purpose of the except clause?\n",
    "#A. try clause will execute the task and if there is error it reflect it in except clause and continue to execute futher code. except clause shows the error occur after completion of executing code."
   ]
  },
  {
   "cell_type": "code",
   "execution_count": 16,
   "id": "5126259f-7391-47a1-ad74-b7304c537406",
   "metadata": {},
   "outputs": [
    {
     "ename": "ModuleNotFoundError",
     "evalue": "No module named 'areallyourpetsnamederic'",
     "output_type": "error",
     "traceback": [
      "\u001b[0;31m---------------------------------------------------------------------------\u001b[0m",
      "\u001b[0;31mModuleNotFoundError\u001b[0m                       Traceback (most recent call last)",
      "Cell \u001b[0;32mIn [16], line 1\u001b[0m\n\u001b[0;32m----> 1\u001b[0m \u001b[38;5;28;01mimport\u001b[39;00m \u001b[38;5;21;01mareallyourpetsnamederic\u001b[39;00m\n",
      "\u001b[0;31mModuleNotFoundError\u001b[0m: No module named 'areallyourpetsnamederic'"
     ]
    }
   ],
   "source": []
  },
  {
   "cell_type": "code",
   "execution_count": null,
   "id": "bec65b57-3b07-434a-9805-b09d86881fa7",
   "metadata": {},
   "outputs": [],
   "source": []
  }
 ],
 "metadata": {
  "kernelspec": {
   "display_name": "Python 3 (ipykernel)",
   "language": "python",
   "name": "python3"
  },
  "language_info": {
   "codemirror_mode": {
    "name": "ipython",
    "version": 3
   },
   "file_extension": ".py",
   "mimetype": "text/x-python",
   "name": "python",
   "nbconvert_exporter": "python",
   "pygments_lexer": "ipython3",
   "version": "3.10.6"
  }
 },
 "nbformat": 4,
 "nbformat_minor": 5
}
