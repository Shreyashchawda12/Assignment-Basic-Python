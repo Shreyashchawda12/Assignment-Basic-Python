{
 "cells": [
  {
   "cell_type": "code",
   "execution_count": null,
   "metadata": {},
   "outputs": [],
   "source": [
    "#1. Write a Python program to Extract Unique values dictionary values?\n",
    "def extract_unique_values(dictionary):\n",
    "    # Create an empty set to store unique values\n",
    "    unique_values = set()\n",
    "\n",
    "    # Iterate through the values of the dictionary\n",
    "    for values in dictionary.values():\n",
    "        # If the value is iterable (e.g., a list), iterate through its elements\n",
    "        if isinstance(values, (list, tuple)):\n",
    "            for value in values:\n",
    "                unique_values.add(value)\n",
    "        else:\n",
    "            unique_values.add(values)\n",
    "\n",
    "    return unique_values\n",
    "\n",
    "# Test the function\n",
    "input_dict = {\n",
    "    'key1': [1, 2, 3],\n",
    "    'key2': [2, 3, 4],\n",
    "    'key3': [3, 4, 5]\n",
    "}\n",
    "result = extract_unique_values(input_dict)\n",
    "print(\"Unique values:\", result)\n"
   ]
  },
  {
   "cell_type": "code",
   "execution_count": null,
   "metadata": {},
   "outputs": [],
   "source": [
    "#2. Write a Python program to find the sum of all items in a dictionary?\n",
    "def sum_dictionary_items(dictionary):\n",
    "    # Initialize the sum variable\n",
    "    total_sum = 0\n",
    "\n",
    "    # Iterate through the values of the dictionary\n",
    "    for value in dictionary.values():\n",
    "        # Add the value to the sum\n",
    "        total_sum += value\n",
    "\n",
    "    return total_sum\n",
    "\n",
    "# Test the function\n",
    "input_dict = {'item1': 10, 'item2': 20, 'item3': 30}\n",
    "result = sum_dictionary_items(input_dict)\n",
    "print(\"Sum of dictionary items:\", result)\n"
   ]
  },
  {
   "cell_type": "code",
   "execution_count": 5,
   "metadata": {},
   "outputs": [
    {
     "name": "stdout",
     "output_type": "stream",
     "text": [
      "Merged dictionary: {'a': 1, 'b': 2, 'c': 3, 'd': 4}\n"
     ]
    }
   ],
   "source": [
    "#3. Write a Python program to Merging two Dictionaries?\n",
    "def merge_dictionaries(dict1, dict2):\n",
    "    # Create a new dictionary and copy the first dictionary\n",
    "    merged_dict = dict1.copy()\n",
    "\n",
    "    # Merge the second dictionary into the new dictionary using update()\n",
    "    merged_dict.update(dict2)\n",
    "\n",
    "    return merged_dict\n",
    "\n",
    "# Test the function\n",
    "dict1 = {'a': 1, 'b': 2}\n",
    "dict2 = {'c': 3, 'd': 4}\n",
    "result = merge_dictionaries(dict1, dict2)\n",
    "print(\"Merged dictionary:\", result)\n"
   ]
  },
  {
   "cell_type": "code",
   "execution_count": 6,
   "metadata": {},
   "outputs": [
    {
     "name": "stdout",
     "output_type": "stream",
     "text": [
      "Flat dictionary: {'name': 'John', 'age': 30, 'city': 'New York'}\n"
     ]
    }
   ],
   "source": [
    "#4. Write a Python program to convert key-values list to flat dictionary?\n",
    "def convert_to_flat_dictionary(kv_list):\n",
    "    # Create an empty dictionary\n",
    "    flat_dict = {}\n",
    "\n",
    "    # Iterate through each key-value pair in the list\n",
    "    for key, value in kv_list:\n",
    "        # Add the key-value pair to the dictionary\n",
    "        flat_dict[key] = value\n",
    "\n",
    "    return flat_dict\n",
    "\n",
    "# Test the function\n",
    "key_values = [(\"name\", \"John\"), (\"age\", 30), (\"city\", \"New York\")]\n",
    "result = convert_to_flat_dictionary(key_values)\n",
    "print(\"Flat dictionary:\", result)\n",
    "\n"
   ]
  },
  {
   "cell_type": "code",
   "execution_count": 7,
   "metadata": {},
   "outputs": [
    {
     "name": "stdout",
     "output_type": "stream",
     "text": [
      "OrderedDict after insertion: OrderedDict([('new_key', 3), ('a', 1), ('b', 2)])\n"
     ]
    }
   ],
   "source": [
    "#5. Write a Python program to insertion at the beginning in OrderedDict?\n",
    "from collections import OrderedDict\n",
    "\n",
    "def insert_at_beginning(ordered_dict, key, value):\n",
    "    # Create a new OrderedDict with the new key-value pair\n",
    "    new_ordered_dict = OrderedDict([(key, value)])\n",
    "\n",
    "    # Update the new OrderedDict with the original OrderedDict\n",
    "    new_ordered_dict.update(ordered_dict)\n",
    "\n",
    "    return new_ordered_dict\n",
    "\n",
    "# Test the function\n",
    "ordered_dict = OrderedDict([('a', 1), ('b', 2)])\n",
    "key = 'new_key'\n",
    "value = 3\n",
    "result = insert_at_beginning(ordered_dict, key, value)\n",
    "print(\"OrderedDict after insertion:\", result)\n",
    "\n"
   ]
  },
  {
   "cell_type": "code",
   "execution_count": 8,
   "metadata": {},
   "outputs": [
    {
     "name": "stdout",
     "output_type": "stream",
     "text": [
      "Order of characters in string: False\n"
     ]
    }
   ],
   "source": [
    "#6. Write a Python program to check order of character in string using OrderedDict()?\n",
    "from collections import OrderedDict\n",
    "\n",
    "def check_order_of_characters(string, pattern):\n",
    "    # Create an OrderedDict to maintain the order of characters\n",
    "    char_order = OrderedDict.fromkeys(string)\n",
    "\n",
    "    # Iterate through the pattern string\n",
    "    for char in pattern:\n",
    "        # If the character is not found or its order is not correct, return False\n",
    "        if char not in char_order or char != next(iter(char_order)):\n",
    "            return False\n",
    "        # Remove the character from the OrderedDict\n",
    "        char_order.popitem(last=False)\n",
    "\n",
    "    # If all characters in the pattern are found and in correct order, return True\n",
    "    return True\n",
    "\n",
    "# Test the function\n",
    "input_string = \"Hello, World!\"\n",
    "input_pattern = \"ol\"\n",
    "result = check_order_of_characters(input_string, input_pattern)\n",
    "print(\"Order of characters in string:\", result)\n"
   ]
  },
  {
   "cell_type": "code",
   "execution_count": 9,
   "metadata": {},
   "outputs": [
    {
     "name": "stdout",
     "output_type": "stream",
     "text": [
      "Sorted by key: {'a': 1, 'b': 2, 'c': 3}\n",
      "Sorted by value: {'a': 1, 'b': 2, 'c': 3}\n"
     ]
    }
   ],
   "source": [
    "#7. Write a Python program to sort Python Dictionaries by Key or Value?\n",
    "def sort_dictionary_by_key(dictionary):\n",
    "    # Sort the dictionary by key and return the sorted dictionary\n",
    "    return dict(sorted(dictionary.items(), key=lambda x: x[0]))\n",
    "\n",
    "def sort_dictionary_by_value(dictionary):\n",
    "    # Sort the dictionary by value and return the sorted dictionary\n",
    "    return dict(sorted(dictionary.items(), key=lambda x: x[1]))\n",
    "\n",
    "# Test the functions\n",
    "input_dict = {'c': 3, 'a': 1, 'b': 2}\n",
    "\n",
    "# Sort the dictionary by key\n",
    "sorted_by_key = sort_dictionary_by_key(input_dict)\n",
    "print(\"Sorted by key:\", sorted_by_key)\n",
    "\n",
    "# Sort the dictionary by value\n",
    "sorted_by_value = sort_dictionary_by_value(input_dict)\n",
    "print(\"Sorted by value:\", sorted_by_value)\n"
   ]
  },
  {
   "cell_type": "code",
   "execution_count": null,
   "metadata": {},
   "outputs": [],
   "source": []
  }
 ],
 "metadata": {
  "kernelspec": {
   "display_name": "Python 3",
   "language": "python",
   "name": "python3"
  },
  "language_info": {
   "codemirror_mode": {
    "name": "ipython",
    "version": 3
   },
   "file_extension": ".py",
   "mimetype": "text/x-python",
   "name": "python",
   "nbconvert_exporter": "python",
   "pygments_lexer": "ipython3",
   "version": "3.8.16"
  },
  "orig_nbformat": 4
 },
 "nbformat": 4,
 "nbformat_minor": 2
}
