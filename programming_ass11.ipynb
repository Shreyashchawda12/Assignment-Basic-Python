{
 "cells": [
  {
   "cell_type": "code",
   "execution_count": 4,
   "metadata": {},
   "outputs": [
    {
     "name": "stdout",
     "output_type": "stream",
     "text": [
      "word length is greater than k\n"
     ]
    }
   ],
   "source": [
    "#1. Write a Python program to find words which are greater than given length k?\n",
    "def word_length(word,k):\n",
    "    s = len(word)\n",
    "    if s > k:\n",
    "        print(\"word length is greater than k\")\n",
    "    else:\n",
    "        print(\"word length is less than k\")\n",
    "        \n",
    "z = word_length(\"shreyasg\",5)\n",
    "z"
   ]
  },
  {
   "cell_type": "code",
   "execution_count": 10,
   "metadata": {},
   "outputs": [
    {
     "data": {
      "text/plain": [
       "'ce cream'"
      ]
     },
     "execution_count": 10,
     "metadata": {},
     "output_type": "execute_result"
    }
   ],
   "source": [
    "#2. Write a Python program for removing i-th character from a string?\n",
    "def character(str):\n",
    "    s = str.replace(\"i\",\"\")\n",
    "    return s\n",
    "\n",
    "z = character(\"ice cream\")\n",
    "z"
   ]
  },
  {
   "cell_type": "code",
   "execution_count": 14,
   "metadata": {},
   "outputs": [
    {
     "name": "stdout",
     "output_type": "stream",
     "text": [
      "Result: ['Hello,', 'world!', 'This', 'is', 'a', 'sample', 'string.']\n",
      "Result: Hello, world! This is a sample string.\n"
     ]
    }
   ],
   "source": [
    "#3. Write a Python program to split and join a string?\n",
    "def split(string, delimiter):\n",
    "    # Split the string into a list of substrings\n",
    "    split_string = string.split(delimiter)\n",
    "    \n",
    "    return split_string\n",
    "\n",
    "def join(string, delimiter):\n",
    "    \n",
    "    # Join the substrings using the specified delimiter\n",
    "    joined_string = delimiter.join(string)\n",
    "    \n",
    "    return joined_string\n",
    "\n",
    "\n",
    "# Example usage\n",
    "input_string = \"Hello, world! This is a sample string.\"\n",
    "delimiter = \" \"  # Space character as the delimiter\n",
    "\n",
    "\n",
    "\n",
    "# Using the function\n",
    "result = split(input_string, delimiter)\n",
    "print(\"Result:\", result)\n",
    "\n",
    "# Using the function\n",
    "final_result = join(result, delimiter)\n",
    "print(\"Result:\", final_result)\n"
   ]
  },
  {
   "cell_type": "code",
   "execution_count": 15,
   "metadata": {},
   "outputs": [
    {
     "name": "stdout",
     "output_type": "stream",
     "text": [
      "The string is a binary string.\n"
     ]
    }
   ],
   "source": [
    "#4. Write a Python to check if a given string is binary string or not?\n",
    "def is_binary_string(string):\n",
    "    # Set of valid binary characters\n",
    "    binary_chars = {'0', '1'}\n",
    "    \n",
    "    # Check if all characters in the string are valid binary characters\n",
    "    for char in string:\n",
    "        if char not in binary_chars:\n",
    "            return False\n",
    "    \n",
    "    return True\n",
    "\n",
    "\n",
    "# Example usage\n",
    "input_string = \"1010101\"\n",
    "\n",
    "if is_binary_string(input_string):\n",
    "    print(\"The string is a binary string.\")\n",
    "else:\n",
    "    print(\"The string is not a binary string.\")\n"
   ]
  },
  {
   "cell_type": "code",
   "execution_count": 34,
   "metadata": {},
   "outputs": [
    {
     "data": {
      "text/plain": [
       "['s', 'r', 'i', 'w', 'm']"
      ]
     },
     "execution_count": 34,
     "metadata": {},
     "output_type": "execute_result"
    }
   ],
   "source": [
    "#5. Write a Python program to find uncommon words from two Strings?\n",
    "def uncommon(str1,str2):\n",
    "    str1 = set(str1)\n",
    "    str2 = set(str2)\n",
    "    uncom = []\n",
    "    for char in str1:\n",
    "        if char not in str2:\n",
    "            uncom.append(char)\n",
    "    \n",
    "    for char in str2:\n",
    "        if char not in str1:\n",
    "            uncom.append(char)\n",
    "    \n",
    "    return uncom\n",
    "s1 = \"shreyash is coder\"\n",
    "s2 = \"chawda may code\"\n",
    "z = uncommon(s1,s2)\n",
    "z"
   ]
  },
  {
   "cell_type": "code",
   "execution_count": 35,
   "metadata": {},
   "outputs": [
    {
     "name": "stdout",
     "output_type": "stream",
     "text": [
      "Duplicate characters: ['l', 'o']\n"
     ]
    }
   ],
   "source": [
    "#6. Write a Python to find all duplicate characters in string?\n",
    "def find_duplicate_characters(string):\n",
    "    # Create an empty dictionary to store character frequencies\n",
    "    char_count = {}\n",
    "\n",
    "    # Iterate through each character in the string\n",
    "    for char in string:\n",
    "        # Increment the count for each character\n",
    "        char_count[char] = char_count.get(char, 0) + 1\n",
    "\n",
    "    # Create a list to store duplicate characters\n",
    "    duplicates = []\n",
    "\n",
    "    # Iterate through the character count dictionary\n",
    "    for char, count in char_count.items():\n",
    "        # If the count is greater than 1, the character is a duplicate\n",
    "        if count > 1:\n",
    "            duplicates.append(char)\n",
    "\n",
    "    return duplicates\n",
    "\n",
    "# Test the function\n",
    "input_string = \"Hello, World!\"\n",
    "result = find_duplicate_characters(input_string)\n",
    "print(\"Duplicate characters:\", result)\n"
   ]
  },
  {
   "cell_type": "code",
   "execution_count": 36,
   "metadata": {},
   "outputs": [
    {
     "name": "stdout",
     "output_type": "stream",
     "text": [
      "Has special characters: True\n"
     ]
    }
   ],
   "source": [
    "#7. Write a Python Program to check if a string contains any special character?\n",
    "import re\n",
    "\n",
    "def has_special_characters(string):\n",
    "    # Regular expression pattern to match special characters\n",
    "    pattern = r'[!@#$%^&*(),.?\":{}|<>]'\n",
    "\n",
    "    # Use the re.search() function to find a match in the string\n",
    "    match = re.search(pattern, string)\n",
    "\n",
    "    # If a match is found, the string contains a special character\n",
    "    if match:\n",
    "        return True\n",
    "    else:\n",
    "        return False\n",
    "\n",
    "# Test the function\n",
    "input_string = \"Hello, World!\"\n",
    "result = has_special_characters(input_string)\n",
    "print(\"Has special characters:\", result)\n"
   ]
  },
  {
   "cell_type": "code",
   "execution_count": null,
   "metadata": {},
   "outputs": [],
   "source": []
  }
 ],
 "metadata": {
  "kernelspec": {
   "display_name": "Python 3",
   "language": "python",
   "name": "python3"
  },
  "language_info": {
   "codemirror_mode": {
    "name": "ipython",
    "version": 3
   },
   "file_extension": ".py",
   "mimetype": "text/x-python",
   "name": "python",
   "nbconvert_exporter": "python",
   "pygments_lexer": "ipython3",
   "version": "3.8.16"
  },
  "orig_nbformat": 4
 },
 "nbformat": 4,
 "nbformat_minor": 2
}
