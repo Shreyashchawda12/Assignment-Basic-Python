{
 "cells": [
  {
   "cell_type": "code",
   "execution_count": 1,
   "metadata": {},
   "outputs": [
    {
     "name": "stdout",
     "output_type": "stream",
     "text": [
      "True\n",
      "False\n",
      "True\n",
      "True\n"
     ]
    }
   ],
   "source": [
    "#1\n",
    "def is_symmetrical(number):\n",
    "    number_str = str(number)\n",
    "    return number_str == number_str[::-1]\n",
    "\n",
    "print(is_symmetrical(121))    # Output: True\n",
    "print(is_symmetrical(12345))  # Output: False\n",
    "print(is_symmetrical(67876))  # Output: True\n",
    "print(is_symmetrical(22))     # Output: True\n"
   ]
  },
  {
   "cell_type": "code",
   "execution_count": 2,
   "metadata": {},
   "outputs": [
    {
     "name": "stdout",
     "output_type": "stream",
     "text": [
      "6\n",
      "24\n",
      "0\n",
      "-20\n"
     ]
    }
   ],
   "source": [
    "#2\n",
    "import math\n",
    "\n",
    "def multiply_nums(numbers):\n",
    "    num_list = [int(num) for num in numbers.split(\", \")]\n",
    "    product = math.prod(num_list)\n",
    "    return product\n",
    "print(multiply_nums(\"2, 3\"))               # Output: 6\n",
    "print(multiply_nums(\"1, 2, 3, 4\"))         # Output: 24\n",
    "print(multiply_nums(\"54, 75, 453, 0\"))     # Output: 0\n",
    "print(multiply_nums(\"10, -2\"))             # Output: -20\n"
   ]
  },
  {
   "cell_type": "code",
   "execution_count": 3,
   "metadata": {},
   "outputs": [
    {
     "name": "stdout",
     "output_type": "stream",
     "text": [
      "811181\n",
      "416649\n",
      "9414\n"
     ]
    }
   ],
   "source": [
    "#3\n",
    "def square_digits(number):\n",
    "    squared_digits = [str(int(digit) ** 2) for digit in str(number)]\n",
    "    squared_number = int(''.join(squared_digits))\n",
    "    return squared_number\n",
    "\n",
    "print(square_digits(9119))  # Output: 811181\n",
    "print(square_digits(2483))  # Output: 416649\n",
    "print(square_digits(3212))  # Output: 9414\n"
   ]
  },
  {
   "cell_type": "code",
   "execution_count": 4,
   "metadata": {},
   "outputs": [
    {
     "name": "stdout",
     "output_type": "stream",
     "text": [
      "[1, 3, 5]\n",
      "[4]\n",
      "[5, 7, 8, 9, 10, 15]\n",
      "[1, 2, 3]\n"
     ]
    }
   ],
   "source": [
    "#4\n",
    "def setify(lst):\n",
    "    sorted_list = sorted(lst)\n",
    "    unique_list = list(set(sorted_list))\n",
    "    return unique_list\n",
    "\n",
    "print(setify([1, 3, 3, 5, 5]))                # Output: [1, 3, 5]\n",
    "print(setify([4, 4, 4, 4]))                   # Output: [4]\n",
    "print(setify([5, 7, 8, 9, 10, 15]))           # Output: [5, 7, 8, 9, 10, 15]\n",
    "print(setify([3, 3, 3, 2, 1]))                # Output: [1, 2, 3]\n"
   ]
  },
  {
   "cell_type": "code",
   "execution_count": 5,
   "metadata": {},
   "outputs": [
    {
     "name": "stdout",
     "output_type": "stream",
     "text": [
      "3.0\n",
      "3.0\n",
      "6.0\n"
     ]
    }
   ],
   "source": [
    "#5\n",
    "def mean(number):\n",
    "    digits = [int(digit) for digit in str(number)]\n",
    "    mean_value = sum(digits) / len(digits)\n",
    "    return mean_value\n",
    "\n",
    "print(mean(42))        # Output: 3.0\n",
    "print(mean(12345))     # Output: 3.0\n",
    "print(mean(666))       # Output: 6.0\n"
   ]
  },
  {
   "cell_type": "code",
   "execution_count": null,
   "metadata": {},
   "outputs": [],
   "source": []
  }
 ],
 "metadata": {
  "kernelspec": {
   "display_name": "Python 3",
   "language": "python",
   "name": "python3"
  },
  "language_info": {
   "codemirror_mode": {
    "name": "ipython",
    "version": 3
   },
   "file_extension": ".py",
   "mimetype": "text/x-python",
   "name": "python",
   "nbconvert_exporter": "python",
   "pygments_lexer": "ipython3",
   "version": "3.8.16"
  },
  "orig_nbformat": 4
 },
 "nbformat": 4,
 "nbformat_minor": 2
}
